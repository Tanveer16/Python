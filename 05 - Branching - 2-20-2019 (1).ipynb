{
 "cells": [
  {
   "attachments": {
    "loopimg.jpg": {
     "image/jpeg": "[encoded data removed]"
    }
   },
   "cell_type": "markdown",
   "metadata": {
    "slideshow": {
     "slide_type": "slide"
    }
   },
   "source": [
    "## ``If-else`` statement\n",
    "Branching directs a program to execute either one group of statements or another, depending on the result of an expression.\n",
    "\n",
    "![loopimg.jpg](attachment:loopimg.jpg)"
   ]
  },
  {
   "cell_type": "markdown",
   "metadata": {
    "slideshow": {
     "slide_type": "slide"
    }
   },
   "source": [
    "## Activity 1\n",
    "Write an if-else statement for the following: \n",
    "If <code>user_tickets</code> is less than 5, assign 1 to <code>num_tickets</code>. Else, assign <code>user_tickets</code> to <code>num_tickets</code>. \n",
    "<br>Ex: if <code>user_tickets</code> is 3, then <code>num_tickets = 1</code>. "
   ]
  },
  {
   "cell_type": "code",
   "execution_count": 3,
   "metadata": {},
   "outputs": [
    {
     "name": "stdout",
     "output_type": "stream",
     "text": [
      "user tickets: 6\n",
      "6\n"
     ]
    }
   ],
   "source": [
    "user_tickets = int(input('user tickets: '))\n",
    "\n",
    "num_tickets = 0\n",
    "\n",
    "if user_tickets < 5:\n",
    "    num_tickets +=1\n",
    "else:\n",
    "    num_tickets = user_tickets\n",
    "\n",
    "print(num_tickets)"
   ]
  },
  {
   "cell_type": "markdown",
   "metadata": {
    "slideshow": {
     "slide_type": "slide"
    }
   },
   "source": [
    "## Activity 2\n",
    "Write a program that prints \"Zero\" if the user enters 0, else prints \"Non-zero\". Modify the program to print \"Non-negative\" if the user enters 0 or greater, else print \"Negative\"."
   ]
  },
  {
   "cell_type": "code",
   "execution_count": 6,
   "metadata": {},
   "outputs": [
    {
     "name": "stdout",
     "output_type": "stream",
     "text": [
      "0.345\n",
      "Non-negative\n"
     ]
    }
   ],
   "source": [
    "user_input = float(input())\n",
    "\n",
    "if user_input == 0:\n",
    "    print('Zero')\n",
    "elif user_input < 0:\n",
    "    print('Negative')\n",
    "else:\n",
    "    print ('Non-negative')"
   ]
  },
  {
   "cell_type": "markdown",
   "metadata": {
    "slideshow": {
     "slide_type": "slide"
    }
   },
   "source": [
    "## Activity 3\n",
    "Write an expression that will print \"Even\" if the value of <code>user_num</code> is an even number. "
   ]
  },
  {
   "cell_type": "code",
   "execution_count": 9,
   "metadata": {},
   "outputs": [
    {
     "name": "stdout",
     "output_type": "stream",
     "text": [
      "get number: 4\n",
      "Even\n"
     ]
    }
   ],
   "source": [
    "user_num = int(input('get number: '))\n",
    "\n",
    "if user_num%2==0:\n",
    "    print('Even')\n",
    "else:\n",
    "    print('Odd')"
   ]
  },
  {
   "cell_type": "markdown",
   "metadata": {
    "slideshow": {
     "slide_type": "slide"
    }
   },
   "source": [
    "## Activity 4\n",
    "Write an expression that will print \"in high school\" if the value of user_grade is between 9 and 12 (inclusive). "
   ]
  },
  {
   "cell_type": "code",
   "execution_count": 10,
   "metadata": {},
   "outputs": [
    {
     "name": "stdout",
     "output_type": "stream",
     "text": [
      "Enter your highest grade/education: 10\n",
      "in high school\n"
     ]
    }
   ],
   "source": [
    "user_grade = int(input('Enter your highest grade/education: '))\n",
    "\n",
    "if user_grade>=9 and user_grade<=12:\n",
    "    print(\"in high school\")\n",
    "else:\n",
    "    print('Other')"
   ]
  },
  {
   "cell_type": "markdown",
   "metadata": {
    "slideshow": {
     "slide_type": "slide"
    }
   },
   "source": [
    "## Activity 5\n",
    "Implement a program that reads in a year, and outputs the approximate value of a Ferarri 250 GTO in that year. The GTO is arguably the most famous sports car of all time (and immortalized in the film Ferris Bueller's Day Off). Use the following table that describes the estimated value of a GTO at different times since 1962.\n",
    "<table>\n",
    "  <tr>\n",
    "    <th>Year</th>\n",
    "    <th>Value</th>\n",
    "  </tr>\n",
    "  <tr>\n",
    "    <td>1962-1964  </td>\n",
    "    <td>\\$18,500</td>\n",
    "  </tr>\n",
    "  <tr>\n",
    "    <td>1965-1968</td>\n",
    "    <td>\\$6,000</td>\n",
    "  </tr>\n",
    "  <tr>\n",
    "    <td>1969-1971</td>\n",
    "    <td>\\$12,000</td>\n",
    "  </tr>\n",
    "  <tr>\n",
    "    <td>1972-1975</td>\n",
    "    <td>\\$48,000</td>\n",
    "  </tr>\n",
    "  <tr>\n",
    "    <td>1976-1980</td>\n",
    "    <td>\\$200,000</td>\n",
    "  </tr>\n",
    "  <tr>\n",
    "    <td>1981-1985</td>\n",
    "    <td>$650,000</td>\n",
    "  </tr>\n",
    "  <tr>\n",
    "    <td>1986-2012</td>\n",
    "    <td>\\$35,000,000</td>\n",
    "  </tr>\n",
    "  <tr>\n",
    "    <td>2013-2014</td>\n",
    "    <td>\\$52,000,000</td>\n",
    "  </tr>\n",
    "</table>"
   ]
  },
  {
   "cell_type": "code",
   "execution_count": null,
   "metadata": {},
   "outputs": [],
   "source": [
    "f_year = int(input('Ferrari GTO Model was bought in the year: '))\n",
    "\n",
    "\n",
    "if f_year>=1962 and f_year<=1664:\n",
    "    print('$18,500')\n",
    "elif f_year>= 1965 and f_year<=1968:\n",
    "    print('$6,000')\n",
    "elif f_year >=1969 and f_year<=1971:\n",
    "    print('$12,000')\n",
    "elif f_year>="
   ]
  },
  {
   "cell_type": "code",
   "execution_count": null,
   "metadata": {},
   "outputs": [],
   "source": []
  },
  {
   "cell_type": "code",
   "execution_count": null,
   "metadata": {},
   "outputs": [],
   "source": []
  },
  {
   "cell_type": "code",
   "execution_count": null,
   "metadata": {},
   "outputs": [],
   "source": []
  },
  {
   "cell_type": "markdown",
   "metadata": {
    "slideshow": {
     "slide_type": "slide"
    }
   },
   "source": [
    "## Activity 6\n",
    "Write an if-else statement with mulitiple branches.\n",
    "If year is 2100 or greater, print \"Distant future\" (without quotes). Otherwise, if year is 2000 or greater, print \"21st century\". Otherwise, if year is 1900 or greater, print \"20th century\". Else (1899 or earlier), print \"Long ago\". "
   ]
  },
  {
   "cell_type": "code",
   "execution_count": null,
   "metadata": {},
   "outputs": [],
   "source": []
  },
  {
   "cell_type": "markdown",
   "metadata": {
    "slideshow": {
     "slide_type": "slide"
    }
   },
   "source": [
    "## Activity 7\n",
    "Write multiple if statements. If car_year is 1969 or earlier, print \"Few safety features.\". If 1970 or later, print \"Probably has seat belts.\". If 1990 or later, print \"Probably has anti-lock brakes.\". If 2000 or later, print \"Probably has air bags.\" End each phrase with a period and a newline. \n",
    "\n",
    "Ex: ``car_year = 1995`` prints:\n",
    "```Python\n",
    "Probably has seat belts.\n",
    "Probably has anti-lock brakes.```"
   ]
  },
  {
   "cell_type": "code",
   "execution_count": 3,
   "metadata": {},
   "outputs": [
    {
     "name": "stdout",
     "output_type": "stream",
     "text": [
      "Enter the car year: 2000\n",
      "Probably has seat belts.\n",
      "Probably has anti-lock brakes.\n",
      "Probably has air bags.\n"
     ]
    }
   ],
   "source": [
    "car_year = int(input('Enter the car year: '))\n",
    "\n",
    "if car_year <= 1969:\n",
    "    print('Few safety features.')\n",
    "else:\n",
    "    print('Probably has seat belts.')\n",
    "    if car_year >= 1990:\n",
    "        print('Probably has anti-lock brakes.')\n",
    "        if car_year >= 2000:\n",
    "            print('Probably has air bags.')"
   ]
  },
  {
   "cell_type": "markdown",
   "metadata": {
    "slideshow": {
     "slide_type": "slide"
    }
   },
   "source": [
    "## Activity 8\n",
    "Read a number from user. Write an expression using Boolean operators that prints \"Special number\" if \n",
    "``special_num`` is -99, 0, or 44. "
   ]
  },
  {
   "cell_type": "code",
   "execution_count": 2,
   "metadata": {},
   "outputs": [
    {
     "name": "stdout",
     "output_type": "stream",
     "text": [
      "Enter any number: -99\n",
      "Special number\n"
     ]
    }
   ],
   "source": [
    "special_num = int(input('Enter any number: '))\n",
    "\n",
    "if special_num in (-99,0,44):\n",
    "    print(\"Special number\")\n",
    "else:\n",
    "    print('Regular number')"
   ]
  },
  {
   "cell_type": "markdown",
   "metadata": {
    "slideshow": {
     "slide_type": "slide"
    }
   },
   "source": [
    "## Activity 9 \n",
    "Read ``user_age`` from user. Write an expression using Boolean operators that prints \"Eligible\" if ``user_age`` is greater than 17 and not equal to 25. \n",
    "\n",
    "Ex: 17 prints \"Ineligible\", 18 prints \"Eligible\". "
   ]
  },
  {
   "cell_type": "markdown",
   "metadata": {
    "slideshow": {
     "slide_type": "slide"
    }
   },
   "source": [
    "## Activity 10\n",
    "Ask the user to answer True or flase to these question: <br>\n",
    "Question 1: Are you young?<br>\n",
    "Question 2: Are you famous?<br>\n",
    "Write an expression that prints 'You must be rich!' if the variables young and famous are both True. "
   ]
  },
  {
   "cell_type": "markdown",
   "metadata": {
    "slideshow": {
     "slide_type": "slide"
    }
   },
   "source": [
    "## Activity 11\n",
    "Read a neumber from user and call it ``special_num``. Write an expression using membership operators that prints \"Special number\" if ``special_num`` is one of the special numbers stored in the list ``special_list = [-99, 0, or 44]``. "
   ]
  },
  {
   "cell_type": "markdown",
   "metadata": {
    "slideshow": {
     "slide_type": "slide"
    }
   },
   "source": [
    "## Activity 12\n",
    "Fix the errors in the code below so that you can run the program."
   ]
  },
  {
   "cell_type": "code",
   "execution_count": 9,
   "metadata": {},
   "outputs": [
    {
     "name": "stdout",
     "output_type": "stream",
     "text": [
      "Enter distance from center of Earth:\n",
      "2000000\n",
      "Thrust to 19964 m/s to escape these Earthly shackles.\n"
     ]
    }
   ],
   "source": [
    "# Calculate the velocity required to escape a circular orbit of Earth,\n",
    "# depending on a user-entered orbital distance.\n",
    "\n",
    "import math\n",
    "\n",
    "escape_velocity_meters_per_sec = 0  # Required velocity to escape orbit\n",
    "earth_grav_constant = 6.67384e-11   # Earth's gravitational constant\n",
    "earth_mass_kilograms = 5.972e24      # Mass of the Earth\n",
    "\n",
    "radius_meters = float(input('Enter distance from center of Earth:\\n'))\n",
    "\n",
    "if radius_meters < 160000:  # 160 km is minimal low-earth orbit\n",
    "    escape_velocity_meters_per_sec = 0  # No escape possible!\n",
    "    print('Houston, we have a problem')\n",
    "else:\n",
    "    standard_grav_param = earth_grav_constant * earth_mass_kilograms\n",
    "    escape_velocity_meters_per_sec = math.sqrt(2*standard_grav_param / radius_meters)\n",
    "    print('Thrust to %d m/s to escape these Earthly shackles.' % escape_velocity_meters_per_sec)"
   ]
  },
  {
   "cell_type": "markdown",
   "metadata": {
    "slideshow": {
     "slide_type": "slide"
    }
   },
   "source": [
    "## Activity 13\n",
    "Re-type the below code. Fix the indentation as necessary to make the program work."
   ]
  },
  {
   "cell_type": "code",
   "execution_count": 4,
   "metadata": {},
   "outputs": [
    {
     "name": "stdout",
     "output_type": "stream",
     "text": [
      "The city is melting!\n"
     ]
    }
   ],
   "source": [
    "temperatures = {\n",
    "    'Seattle': 56.5,\n",
    "    'New York': 105,\n",
    "    'Kansas City': 81.9,\n",
    "    'Los Angeles': 76.5\n",
    "}\n",
    "\n",
    "if 'New York' in temperatures:\n",
    "    if temperatures['New York'] > 90:\n",
    "        print('The city is melting!')\n",
    "    else:\n",
    "        print('The temperature in New York is', temperatures['New York'])\n",
    "else:\n",
    "    print('The temperature in New York is unknown.')"
   ]
  },
  {
   "cell_type": "markdown",
   "metadata": {
    "slideshow": {
     "slide_type": "slide"
    }
   },
   "source": [
    "## Activity 14\n",
    "Convert if-else statement to a single assignment statement using a conditional expression, using parentheses around the condition.\n",
    "```Python\n",
    "if x < 100:\n",
    "    y = 0\n",
    "else:\n",
    "    y = x```"
   ]
  },
  {
   "cell_type": "code",
   "execution_count": 13,
   "metadata": {},
   "outputs": [
    {
     "name": "stdout",
     "output_type": "stream",
     "text": [
      "Enter a number: 99\n",
      "0\n"
     ]
    }
   ],
   "source": [
    "x = int(input('Enter a number: '))\n",
    "y = 0 if x<100 else x\n",
    "print(y)"
   ]
  },
  {
   "cell_type": "markdown",
   "metadata": {
    "slideshow": {
     "slide_type": "slide"
    }
   },
   "source": [
    "## Activity 15\n",
    "Convert if-else statement to a single assignment statement using a conditional expression, using parentheses around the condition.\n",
    "```Python\n",
    "if x < 1:\n",
    "    y = x\n",
    "else:\n",
    "    z = x```"
   ]
  },
  {
   "cell_type": "markdown",
   "metadata": {
    "slideshow": {
     "slide_type": "slide"
    }
   },
   "source": [
    "## Activity 16\n",
    "Read a value from user and assign it to ``user_val``. Create a conditional expression that evaluates to string \"negative\" if ``user_val`` is less than 0, and \"non-negative\" otherwise. \n",
    "\n",
    "Example output when ``user_val`` is -9:\n",
    "\n",
    "```-9 is negative```"
   ]
  },
  {
   "cell_type": "code",
   "execution_count": 15,
   "metadata": {},
   "outputs": [
    {
     "name": "stdout",
     "output_type": "stream",
     "text": [
      "Enter a number: 12\n",
      "12 is Non-Negative\n"
     ]
    }
   ],
   "source": [
    "user_val = int(input('Enter a number: '))\n",
    "\n",
    "value = 'Negative' if user_val < 0 else 'Non-Negative'\n",
    "\n",
    "print('%d is %s'%(user_val, value))"
   ]
  },
  {
   "cell_type": "markdown",
   "metadata": {
    "slideshow": {
     "slide_type": "slide"
    }
   },
   "source": [
    "## Activity 17\n",
    "Let user input two numbers ``num_users`` and ``update_direction``. Using a conditional expression, write a statement that increments ``num_users`` if ``update_direction`` is 3, otherwise decrements num_users.\n",
    "\n",
    "Ex: if ``num_users`` is 8 and ``update_direction`` is 3, then ``num_users`` becomes 9; \n",
    "\n",
    "if ``update_direction`` is 0, then ``num_users`` becomes 7. "
   ]
  }
 ],
 "metadata": {
  "kernelspec": {
   "display_name": "Python 3",
   "language": "python",
   "name": "python3"
  },
  "language_info": {
   "codemirror_mode": {
    "name": "ipython",
    "version": 3
   },
   "file_extension": ".py",
   "mimetype": "text/x-python",
   "name": "python",
   "nbconvert_exporter": "python",
   "pygments_lexer": "ipython3",
   "version": "3.7.1"
  }
 },
 "nbformat": 4,
 "nbformat_minor": 2
}
