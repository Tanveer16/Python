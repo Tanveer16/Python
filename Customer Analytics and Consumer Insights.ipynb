{
 "cells": [
  {
   "cell_type": "code",
   "execution_count": 1,
   "metadata": {},
   "outputs": [
    {
     "name": "stdout",
     "output_type": "stream",
     "text": [
      " Volume in drive C is OS\n",
      " Volume Serial Number is 0E4A-2093\n",
      "\n",
      " Directory of C:\\Users\\Tanveer Jamadar\\Downloads\\Linkedin_Learning\\Ex_Files_Customer_Insights_Tools_Analysis\\Exercise Files\\data\n",
      "\n",
      "04/29/2020  10:44 AM    <DIR>          .\n",
      "04/29/2020  10:44 AM    <DIR>          ..\n",
      "04/29/2020  10:44 AM    <DIR>          .ipynb_checkpoints\n",
      "06/26/2019  12:03 PM           128,561 ci-data.csv\n",
      "04/29/2020  10:44 AM                72 Untitled.ipynb\n",
      "               2 File(s)        128,633 bytes\n",
      "               3 Dir(s)  30,596,550,656 bytes free\n"
     ]
    }
   ],
   "source": [
    "ls"
   ]
  },
  {
   "cell_type": "code",
   "execution_count": 2,
   "metadata": {},
   "outputs": [],
   "source": [
    "import pandas as pd"
   ]
  },
  {
   "cell_type": "code",
   "execution_count": 6,
   "metadata": {},
   "outputs": [],
   "source": [
    "dataset=pd.read_csv(\"ci-data.csv\")"
   ]
  },
  {
   "cell_type": "code",
   "execution_count": 7,
   "metadata": {},
   "outputs": [
    {
     "data": {
      "text/html": [
       "<div>\n",
       "<style scoped>\n",
       "    .dataframe tbody tr th:only-of-type {\n",
       "        vertical-align: middle;\n",
       "    }\n",
       "\n",
       "    .dataframe tbody tr th {\n",
       "        vertical-align: top;\n",
       "    }\n",
       "\n",
       "    .dataframe thead th {\n",
       "        text-align: right;\n",
       "    }\n",
       "</style>\n",
       "<table border=\"1\" class=\"dataframe\">\n",
       "  <thead>\n",
       "    <tr style=\"text-align: right;\">\n",
       "      <th></th>\n",
       "      <th>id</th>\n",
       "      <th>purchase_counts</th>\n",
       "      <th>purchase_sum</th>\n",
       "      <th>attribution_score</th>\n",
       "      <th>website_visits</th>\n",
       "      <th>website_behavior_classification</th>\n",
       "      <th>experience</th>\n",
       "      <th>active</th>\n",
       "      <th>characteristic_one</th>\n",
       "      <th>characteristic_two</th>\n",
       "      <th>characteristic_three</th>\n",
       "      <th>customer_journey_progress_program</th>\n",
       "      <th>remarks</th>\n",
       "    </tr>\n",
       "  </thead>\n",
       "  <tbody>\n",
       "    <tr>\n",
       "      <th>0</th>\n",
       "      <td>5ca74cdcfc13ae60bd000097</td>\n",
       "      <td>5</td>\n",
       "      <td>44810.57</td>\n",
       "      <td>4</td>\n",
       "      <td>14</td>\n",
       "      <td>5</td>\n",
       "      <td>0.00</td>\n",
       "      <td>2.05</td>\n",
       "      <td>1</td>\n",
       "      <td>25</td>\n",
       "      <td>3</td>\n",
       "      <td>2</td>\n",
       "      <td>In hac habitasse platea dictumst. Etiam faucib...</td>\n",
       "    </tr>\n",
       "    <tr>\n",
       "      <th>1</th>\n",
       "      <td>5ca74cddfc13ae60bd0000f5</td>\n",
       "      <td>5</td>\n",
       "      <td>30612.91</td>\n",
       "      <td>9</td>\n",
       "      <td>7</td>\n",
       "      <td>9</td>\n",
       "      <td>0.00</td>\n",
       "      <td>4.94</td>\n",
       "      <td>2</td>\n",
       "      <td>25</td>\n",
       "      <td>3</td>\n",
       "      <td>1</td>\n",
       "      <td>Praesent blandit. Nam nulla. Integer pede just...</td>\n",
       "    </tr>\n",
       "    <tr>\n",
       "      <th>2</th>\n",
       "      <td>5ca74cddfc13ae60bd00010a</td>\n",
       "      <td>7</td>\n",
       "      <td>35655.59</td>\n",
       "      <td>3</td>\n",
       "      <td>26</td>\n",
       "      <td>5</td>\n",
       "      <td>0.00</td>\n",
       "      <td>3.61</td>\n",
       "      <td>1</td>\n",
       "      <td>26</td>\n",
       "      <td>1</td>\n",
       "      <td>1</td>\n",
       "      <td>Praesent id massa id nisl venenatis lacinia. A...</td>\n",
       "    </tr>\n",
       "    <tr>\n",
       "      <th>3</th>\n",
       "      <td>5ca74cdcfc13ae60bd000073</td>\n",
       "      <td>7</td>\n",
       "      <td>30139.24</td>\n",
       "      <td>7</td>\n",
       "      <td>9</td>\n",
       "      <td>4</td>\n",
       "      <td>0.01</td>\n",
       "      <td>4.44</td>\n",
       "      <td>2</td>\n",
       "      <td>26</td>\n",
       "      <td>3</td>\n",
       "      <td>1</td>\n",
       "      <td>In hac habitasse platea dictumst. Morbi vestib...</td>\n",
       "    </tr>\n",
       "    <tr>\n",
       "      <th>4</th>\n",
       "      <td>5ca74cdcfc13ae60bd000040</td>\n",
       "      <td>4</td>\n",
       "      <td>4501.13</td>\n",
       "      <td>3</td>\n",
       "      <td>10</td>\n",
       "      <td>1</td>\n",
       "      <td>0.02</td>\n",
       "      <td>4.51</td>\n",
       "      <td>1</td>\n",
       "      <td>25</td>\n",
       "      <td>3</td>\n",
       "      <td>1</td>\n",
       "      <td>Pellentesque at nulla. Suspendisse potenti. Cr...</td>\n",
       "    </tr>\n",
       "  </tbody>\n",
       "</table>\n",
       "</div>"
      ],
      "text/plain": [
       "                         id  purchase_counts  purchase_sum  attribution_score  \\\n",
       "0  5ca74cdcfc13ae60bd000097                5      44810.57                  4   \n",
       "1  5ca74cddfc13ae60bd0000f5                5      30612.91                  9   \n",
       "2  5ca74cddfc13ae60bd00010a                7      35655.59                  3   \n",
       "3  5ca74cdcfc13ae60bd000073                7      30139.24                  7   \n",
       "4  5ca74cdcfc13ae60bd000040                4       4501.13                  3   \n",
       "\n",
       "   website_visits  website_behavior_classification  experience  active  \\\n",
       "0              14                                5        0.00    2.05   \n",
       "1               7                                9        0.00    4.94   \n",
       "2              26                                5        0.00    3.61   \n",
       "3               9                                4        0.01    4.44   \n",
       "4              10                                1        0.02    4.51   \n",
       "\n",
       "   characteristic_one  characteristic_two  characteristic_three  \\\n",
       "0                   1                  25                     3   \n",
       "1                   2                  25                     3   \n",
       "2                   1                  26                     1   \n",
       "3                   2                  26                     3   \n",
       "4                   1                  25                     3   \n",
       "\n",
       "   customer_journey_progress_program  \\\n",
       "0                                  2   \n",
       "1                                  1   \n",
       "2                                  1   \n",
       "3                                  1   \n",
       "4                                  1   \n",
       "\n",
       "                                             remarks  \n",
       "0  In hac habitasse platea dictumst. Etiam faucib...  \n",
       "1  Praesent blandit. Nam nulla. Integer pede just...  \n",
       "2  Praesent id massa id nisl venenatis lacinia. A...  \n",
       "3  In hac habitasse platea dictumst. Morbi vestib...  \n",
       "4  Pellentesque at nulla. Suspendisse potenti. Cr...  "
      ]
     },
     "execution_count": 7,
     "metadata": {},
     "output_type": "execute_result"
    }
   ],
   "source": [
    "dataset.head()"
   ]
  },
  {
   "cell_type": "code",
   "execution_count": 8,
   "metadata": {},
   "outputs": [
    {
     "data": {
      "text/plain": [
       "Index(['id', 'purchase_counts', 'purchase_sum', 'attribution_score',\n",
       "       'website_visits', 'website_behavior_classification', 'experience',\n",
       "       'active', 'characteristic_one', 'characteristic_two',\n",
       "       'characteristic_three', 'customer_journey_progress_program', 'remarks'],\n",
       "      dtype='object')"
      ]
     },
     "execution_count": 8,
     "metadata": {},
     "output_type": "execute_result"
    }
   ],
   "source": [
    "dataset.columns"
   ]
  },
  {
   "cell_type": "code",
   "execution_count": 9,
   "metadata": {},
   "outputs": [
    {
     "data": {
      "text/plain": [
       "id                                   400\n",
       "purchase_counts                      400\n",
       "purchase_sum                         400\n",
       "attribution_score                    400\n",
       "website_visits                       400\n",
       "website_behavior_classification      400\n",
       "experience                           400\n",
       "active                               400\n",
       "characteristic_one                   400\n",
       "characteristic_two                   400\n",
       "characteristic_three                 400\n",
       "customer_journey_progress_program    400\n",
       "remarks                              400\n",
       "dtype: int64"
      ]
     },
     "execution_count": 9,
     "metadata": {},
     "output_type": "execute_result"
    }
   ],
   "source": [
    "dataset.count()"
   ]
  },
  {
   "cell_type": "code",
   "execution_count": 10,
   "metadata": {},
   "outputs": [
    {
     "data": {
      "text/html": [
       "<div>\n",
       "<style scoped>\n",
       "    .dataframe tbody tr th:only-of-type {\n",
       "        vertical-align: middle;\n",
       "    }\n",
       "\n",
       "    .dataframe tbody tr th {\n",
       "        vertical-align: top;\n",
       "    }\n",
       "\n",
       "    .dataframe thead th {\n",
       "        text-align: right;\n",
       "    }\n",
       "</style>\n",
       "<table border=\"1\" class=\"dataframe\">\n",
       "  <thead>\n",
       "    <tr style=\"text-align: right;\">\n",
       "      <th></th>\n",
       "      <th>purchase_counts</th>\n",
       "      <th>purchase_sum</th>\n",
       "      <th>attribution_score</th>\n",
       "      <th>website_visits</th>\n",
       "      <th>website_behavior_classification</th>\n",
       "      <th>experience</th>\n",
       "      <th>active</th>\n",
       "      <th>characteristic_one</th>\n",
       "      <th>characteristic_two</th>\n",
       "      <th>characteristic_three</th>\n",
       "      <th>customer_journey_progress_program</th>\n",
       "    </tr>\n",
       "  </thead>\n",
       "  <tbody>\n",
       "    <tr>\n",
       "      <th>count</th>\n",
       "      <td>400.000000</td>\n",
       "      <td>400.000000</td>\n",
       "      <td>400.000000</td>\n",
       "      <td>400.000000</td>\n",
       "      <td>400.000000</td>\n",
       "      <td>400.000000</td>\n",
       "      <td>400.000000</td>\n",
       "      <td>400.00000</td>\n",
       "      <td>400.00000</td>\n",
       "      <td>400.000000</td>\n",
       "      <td>400.000000</td>\n",
       "    </tr>\n",
       "    <tr>\n",
       "      <th>mean</th>\n",
       "      <td>4.047500</td>\n",
       "      <td>24631.522625</td>\n",
       "      <td>5.947500</td>\n",
       "      <td>16.775000</td>\n",
       "      <td>6.340000</td>\n",
       "      <td>0.495700</td>\n",
       "      <td>3.085650</td>\n",
       "      <td>1.51250</td>\n",
       "      <td>25.09750</td>\n",
       "      <td>3.892500</td>\n",
       "      <td>5.387500</td>\n",
       "    </tr>\n",
       "    <tr>\n",
       "      <th>std</th>\n",
       "      <td>1.998808</td>\n",
       "      <td>14240.431535</td>\n",
       "      <td>3.909342</td>\n",
       "      <td>9.204411</td>\n",
       "      <td>3.392369</td>\n",
       "      <td>0.295642</td>\n",
       "      <td>1.151398</td>\n",
       "      <td>0.50047</td>\n",
       "      <td>0.98764</td>\n",
       "      <td>2.021425</td>\n",
       "      <td>2.925533</td>\n",
       "    </tr>\n",
       "    <tr>\n",
       "      <th>min</th>\n",
       "      <td>1.000000</td>\n",
       "      <td>48.130000</td>\n",
       "      <td>0.000000</td>\n",
       "      <td>1.000000</td>\n",
       "      <td>1.000000</td>\n",
       "      <td>0.000000</td>\n",
       "      <td>1.010000</td>\n",
       "      <td>1.00000</td>\n",
       "      <td>22.00000</td>\n",
       "      <td>1.000000</td>\n",
       "      <td>0.000000</td>\n",
       "    </tr>\n",
       "    <tr>\n",
       "      <th>25%</th>\n",
       "      <td>2.000000</td>\n",
       "      <td>12235.735000</td>\n",
       "      <td>2.000000</td>\n",
       "      <td>9.000000</td>\n",
       "      <td>3.750000</td>\n",
       "      <td>0.240000</td>\n",
       "      <td>2.115000</td>\n",
       "      <td>1.00000</td>\n",
       "      <td>25.00000</td>\n",
       "      <td>2.000000</td>\n",
       "      <td>3.000000</td>\n",
       "    </tr>\n",
       "    <tr>\n",
       "      <th>50%</th>\n",
       "      <td>4.000000</td>\n",
       "      <td>25002.425000</td>\n",
       "      <td>6.000000</td>\n",
       "      <td>16.000000</td>\n",
       "      <td>6.000000</td>\n",
       "      <td>0.470000</td>\n",
       "      <td>3.160000</td>\n",
       "      <td>2.00000</td>\n",
       "      <td>25.00000</td>\n",
       "      <td>4.000000</td>\n",
       "      <td>5.000000</td>\n",
       "    </tr>\n",
       "    <tr>\n",
       "      <th>75%</th>\n",
       "      <td>6.000000</td>\n",
       "      <td>36221.350000</td>\n",
       "      <td>9.000000</td>\n",
       "      <td>25.000000</td>\n",
       "      <td>9.000000</td>\n",
       "      <td>0.742500</td>\n",
       "      <td>4.120000</td>\n",
       "      <td>2.00000</td>\n",
       "      <td>26.00000</td>\n",
       "      <td>6.000000</td>\n",
       "      <td>8.000000</td>\n",
       "    </tr>\n",
       "    <tr>\n",
       "      <th>max</th>\n",
       "      <td>7.000000</td>\n",
       "      <td>49970.640000</td>\n",
       "      <td>12.000000</td>\n",
       "      <td>32.000000</td>\n",
       "      <td>12.000000</td>\n",
       "      <td>1.000000</td>\n",
       "      <td>5.000000</td>\n",
       "      <td>2.00000</td>\n",
       "      <td>28.00000</td>\n",
       "      <td>7.000000</td>\n",
       "      <td>10.000000</td>\n",
       "    </tr>\n",
       "  </tbody>\n",
       "</table>\n",
       "</div>"
      ],
      "text/plain": [
       "       purchase_counts  purchase_sum  attribution_score  website_visits  \\\n",
       "count       400.000000    400.000000         400.000000      400.000000   \n",
       "mean          4.047500  24631.522625           5.947500       16.775000   \n",
       "std           1.998808  14240.431535           3.909342        9.204411   \n",
       "min           1.000000     48.130000           0.000000        1.000000   \n",
       "25%           2.000000  12235.735000           2.000000        9.000000   \n",
       "50%           4.000000  25002.425000           6.000000       16.000000   \n",
       "75%           6.000000  36221.350000           9.000000       25.000000   \n",
       "max           7.000000  49970.640000          12.000000       32.000000   \n",
       "\n",
       "       website_behavior_classification  experience      active  \\\n",
       "count                       400.000000  400.000000  400.000000   \n",
       "mean                          6.340000    0.495700    3.085650   \n",
       "std                           3.392369    0.295642    1.151398   \n",
       "min                           1.000000    0.000000    1.010000   \n",
       "25%                           3.750000    0.240000    2.115000   \n",
       "50%                           6.000000    0.470000    3.160000   \n",
       "75%                           9.000000    0.742500    4.120000   \n",
       "max                          12.000000    1.000000    5.000000   \n",
       "\n",
       "       characteristic_one  characteristic_two  characteristic_three  \\\n",
       "count           400.00000           400.00000            400.000000   \n",
       "mean              1.51250            25.09750              3.892500   \n",
       "std               0.50047             0.98764              2.021425   \n",
       "min               1.00000            22.00000              1.000000   \n",
       "25%               1.00000            25.00000              2.000000   \n",
       "50%               2.00000            25.00000              4.000000   \n",
       "75%               2.00000            26.00000              6.000000   \n",
       "max               2.00000            28.00000              7.000000   \n",
       "\n",
       "       customer_journey_progress_program  \n",
       "count                         400.000000  \n",
       "mean                            5.387500  \n",
       "std                             2.925533  \n",
       "min                             0.000000  \n",
       "25%                             3.000000  \n",
       "50%                             5.000000  \n",
       "75%                             8.000000  \n",
       "max                            10.000000  "
      ]
     },
     "execution_count": 10,
     "metadata": {},
     "output_type": "execute_result"
    }
   ],
   "source": [
    "dataset.describe()"
   ]
  },
  {
   "cell_type": "code",
   "execution_count": 13,
   "metadata": {},
   "outputs": [
    {
     "data": {
      "text/plain": [
       "False"
      ]
     },
     "execution_count": 13,
     "metadata": {},
     "output_type": "execute_result"
    }
   ],
   "source": [
    "dataset.isnull().values.any()"
   ]
  },
  {
   "cell_type": "code",
   "execution_count": 14,
   "metadata": {},
   "outputs": [],
   "source": [
    "import matplotlib.pyplot as plt\n",
    "%matplotlib inline"
   ]
  },
  {
   "cell_type": "code",
   "execution_count": 15,
   "metadata": {},
   "outputs": [
    {
     "data": {
      "text/plain": [
       "(array([81., 23., 24., 23., 30., 56., 41., 32., 20., 70.]),\n",
       " array([ 0. ,  1.2,  2.4,  3.6,  4.8,  6. ,  7.2,  8.4,  9.6, 10.8, 12. ]),\n",
       " <a list of 10 Patch objects>)"
      ]
     },
     "execution_count": 15,
     "metadata": {},
     "output_type": "execute_result"
    },
    {
     "data": {
      "image/png": "[encoded data removed]",
      "text/plain": [
       "<matplotlib.figure.Figure at 0x154f475c7b8>"
      ]
     },
     "metadata": {},
     "output_type": "display_data"
    }
   ],
   "source": [
    "## checking spread of data with histogram\n",
    "\n",
    "plt.hist(dataset.attribution_score)"
   ]
  },
  {
   "cell_type": "code",
   "execution_count": 26,
   "metadata": {},
   "outputs": [
    {
     "data": {
      "text/plain": [
       "<matplotlib.axes._subplots.AxesSubplot at 0x154f522f7f0>"
      ]
     },
     "execution_count": 26,
     "metadata": {},
     "output_type": "execute_result"
    },
    {
     "data": {
      "image/png": "[encoded data removed]",
      "text/plain": [
       "<matplotlib.figure.Figure at 0x154f5234ba8>"
      ]
     },
     "metadata": {},
     "output_type": "display_data"
    }
   ],
   "source": [
    "## relationship between independent variables\n",
    "\n",
    "dataset.plot.scatter(x=\"purchase_sum\",y=\"experience\",color='yellow')"
   ]
  },
  {
   "cell_type": "code",
   "execution_count": 29,
   "metadata": {},
   "outputs": [],
   "source": [
    "import warnings\n",
    "warnings.filterwarnings('ignore')"
   ]
  },
  {
   "cell_type": "code",
   "execution_count": 31,
   "metadata": {},
   "outputs": [],
   "source": [
    "d = dataset.corr()"
   ]
  },
  {
   "cell_type": "code",
   "execution_count": 36,
   "metadata": {},
   "outputs": [
    {
     "data": {
      "text/html": [
       "<div>\n",
       "<style scoped>\n",
       "    .dataframe tbody tr th:only-of-type {\n",
       "        vertical-align: middle;\n",
       "    }\n",
       "\n",
       "    .dataframe tbody tr th {\n",
       "        vertical-align: top;\n",
       "    }\n",
       "\n",
       "    .dataframe thead th {\n",
       "        text-align: right;\n",
       "    }\n",
       "</style>\n",
       "<table border=\"1\" class=\"dataframe\">\n",
       "  <thead>\n",
       "    <tr style=\"text-align: right;\">\n",
       "      <th></th>\n",
       "      <th>purchase_counts</th>\n",
       "      <th>purchase_sum</th>\n",
       "      <th>attribution_score</th>\n",
       "      <th>website_visits</th>\n",
       "      <th>website_behavior_classification</th>\n",
       "      <th>experience</th>\n",
       "      <th>active</th>\n",
       "      <th>characteristic_one</th>\n",
       "      <th>characteristic_two</th>\n",
       "      <th>characteristic_three</th>\n",
       "      <th>customer_journey_progress_program</th>\n",
       "    </tr>\n",
       "  </thead>\n",
       "  <tbody>\n",
       "    <tr>\n",
       "      <th>purchase_counts</th>\n",
       "      <td>1.000000</td>\n",
       "      <td>0.114807</td>\n",
       "      <td>-0.042659</td>\n",
       "      <td>-0.004049</td>\n",
       "      <td>-0.046742</td>\n",
       "      <td>-0.040072</td>\n",
       "      <td>0.037639</td>\n",
       "      <td>-0.094548</td>\n",
       "      <td>-0.006161</td>\n",
       "      <td>0.048409</td>\n",
       "      <td>-0.012585</td>\n",
       "    </tr>\n",
       "    <tr>\n",
       "      <th>purchase_sum</th>\n",
       "      <td>0.114807</td>\n",
       "      <td>1.000000</td>\n",
       "      <td>-0.049966</td>\n",
       "      <td>-0.069247</td>\n",
       "      <td>-0.038276</td>\n",
       "      <td>0.025457</td>\n",
       "      <td>-0.034714</td>\n",
       "      <td>-0.056691</td>\n",
       "      <td>-0.065040</td>\n",
       "      <td>-0.005819</td>\n",
       "      <td>-0.002640</td>\n",
       "    </tr>\n",
       "    <tr>\n",
       "      <th>attribution_score</th>\n",
       "      <td>-0.042659</td>\n",
       "      <td>-0.049966</td>\n",
       "      <td>1.000000</td>\n",
       "      <td>-0.019553</td>\n",
       "      <td>0.017413</td>\n",
       "      <td>0.000997</td>\n",
       "      <td>-0.037774</td>\n",
       "      <td>0.052216</td>\n",
       "      <td>-0.029829</td>\n",
       "      <td>-0.074929</td>\n",
       "      <td>-0.025171</td>\n",
       "    </tr>\n",
       "    <tr>\n",
       "      <th>website_visits</th>\n",
       "      <td>-0.004049</td>\n",
       "      <td>-0.069247</td>\n",
       "      <td>-0.019553</td>\n",
       "      <td>1.000000</td>\n",
       "      <td>-0.026279</td>\n",
       "      <td>-0.053223</td>\n",
       "      <td>0.022142</td>\n",
       "      <td>0.017478</td>\n",
       "      <td>0.005452</td>\n",
       "      <td>-0.017198</td>\n",
       "      <td>-0.039103</td>\n",
       "    </tr>\n",
       "    <tr>\n",
       "      <th>website_behavior_classification</th>\n",
       "      <td>-0.046742</td>\n",
       "      <td>-0.038276</td>\n",
       "      <td>0.017413</td>\n",
       "      <td>-0.026279</td>\n",
       "      <td>1.000000</td>\n",
       "      <td>0.036122</td>\n",
       "      <td>0.150231</td>\n",
       "      <td>-0.060081</td>\n",
       "      <td>0.013270</td>\n",
       "      <td>-0.032667</td>\n",
       "      <td>0.090230</td>\n",
       "    </tr>\n",
       "    <tr>\n",
       "      <th>experience</th>\n",
       "      <td>-0.040072</td>\n",
       "      <td>0.025457</td>\n",
       "      <td>0.000997</td>\n",
       "      <td>-0.053223</td>\n",
       "      <td>0.036122</td>\n",
       "      <td>1.000000</td>\n",
       "      <td>0.046166</td>\n",
       "      <td>-0.051469</td>\n",
       "      <td>-0.050147</td>\n",
       "      <td>-0.000608</td>\n",
       "      <td>0.873334</td>\n",
       "    </tr>\n",
       "    <tr>\n",
       "      <th>active</th>\n",
       "      <td>0.037639</td>\n",
       "      <td>-0.034714</td>\n",
       "      <td>-0.037774</td>\n",
       "      <td>0.022142</td>\n",
       "      <td>0.150231</td>\n",
       "      <td>0.046166</td>\n",
       "      <td>1.000000</td>\n",
       "      <td>0.099303</td>\n",
       "      <td>0.061071</td>\n",
       "      <td>-0.015051</td>\n",
       "      <td>0.050226</td>\n",
       "    </tr>\n",
       "    <tr>\n",
       "      <th>characteristic_one</th>\n",
       "      <td>-0.094548</td>\n",
       "      <td>-0.056691</td>\n",
       "      <td>0.052216</td>\n",
       "      <td>0.017478</td>\n",
       "      <td>-0.060081</td>\n",
       "      <td>-0.051469</td>\n",
       "      <td>0.099303</td>\n",
       "      <td>1.000000</td>\n",
       "      <td>-0.030360</td>\n",
       "      <td>0.005048</td>\n",
       "      <td>-0.038408</td>\n",
       "    </tr>\n",
       "    <tr>\n",
       "      <th>characteristic_two</th>\n",
       "      <td>-0.006161</td>\n",
       "      <td>-0.065040</td>\n",
       "      <td>-0.029829</td>\n",
       "      <td>0.005452</td>\n",
       "      <td>0.013270</td>\n",
       "      <td>-0.050147</td>\n",
       "      <td>0.061071</td>\n",
       "      <td>-0.030360</td>\n",
       "      <td>1.000000</td>\n",
       "      <td>0.022838</td>\n",
       "      <td>-0.065153</td>\n",
       "    </tr>\n",
       "    <tr>\n",
       "      <th>characteristic_three</th>\n",
       "      <td>0.048409</td>\n",
       "      <td>-0.005819</td>\n",
       "      <td>-0.074929</td>\n",
       "      <td>-0.017198</td>\n",
       "      <td>-0.032667</td>\n",
       "      <td>-0.000608</td>\n",
       "      <td>-0.015051</td>\n",
       "      <td>0.005048</td>\n",
       "      <td>0.022838</td>\n",
       "      <td>1.000000</td>\n",
       "      <td>-0.018790</td>\n",
       "    </tr>\n",
       "    <tr>\n",
       "      <th>customer_journey_progress_program</th>\n",
       "      <td>-0.012585</td>\n",
       "      <td>-0.002640</td>\n",
       "      <td>-0.025171</td>\n",
       "      <td>-0.039103</td>\n",
       "      <td>0.090230</td>\n",
       "      <td>0.873334</td>\n",
       "      <td>0.050226</td>\n",
       "      <td>-0.038408</td>\n",
       "      <td>-0.065153</td>\n",
       "      <td>-0.018790</td>\n",
       "      <td>1.000000</td>\n",
       "    </tr>\n",
       "  </tbody>\n",
       "</table>\n",
       "</div>"
      ],
      "text/plain": [
       "                                   purchase_counts  purchase_sum  \\\n",
       "purchase_counts                           1.000000      0.114807   \n",
       "purchase_sum                              0.114807      1.000000   \n",
       "attribution_score                        -0.042659     -0.049966   \n",
       "website_visits                           -0.004049     -0.069247   \n",
       "website_behavior_classification          -0.046742     -0.038276   \n",
       "experience                               -0.040072      0.025457   \n",
       "active                                    0.037639     -0.034714   \n",
       "characteristic_one                       -0.094548     -0.056691   \n",
       "characteristic_two                       -0.006161     -0.065040   \n",
       "characteristic_three                      0.048409     -0.005819   \n",
       "customer_journey_progress_program        -0.012585     -0.002640   \n",
       "\n",
       "                                   attribution_score  website_visits  \\\n",
       "purchase_counts                            -0.042659       -0.004049   \n",
       "purchase_sum                               -0.049966       -0.069247   \n",
       "attribution_score                           1.000000       -0.019553   \n",
       "website_visits                             -0.019553        1.000000   \n",
       "website_behavior_classification             0.017413       -0.026279   \n",
       "experience                                  0.000997       -0.053223   \n",
       "active                                     -0.037774        0.022142   \n",
       "characteristic_one                          0.052216        0.017478   \n",
       "characteristic_two                         -0.029829        0.005452   \n",
       "characteristic_three                       -0.074929       -0.017198   \n",
       "customer_journey_progress_program          -0.025171       -0.039103   \n",
       "\n",
       "                                   website_behavior_classification  \\\n",
       "purchase_counts                                          -0.046742   \n",
       "purchase_sum                                             -0.038276   \n",
       "attribution_score                                         0.017413   \n",
       "website_visits                                           -0.026279   \n",
       "website_behavior_classification                           1.000000   \n",
       "experience                                                0.036122   \n",
       "active                                                    0.150231   \n",
       "characteristic_one                                       -0.060081   \n",
       "characteristic_two                                        0.013270   \n",
       "characteristic_three                                     -0.032667   \n",
       "customer_journey_progress_program                         0.090230   \n",
       "\n",
       "                                   experience    active  characteristic_one  \\\n",
       "purchase_counts                     -0.040072  0.037639           -0.094548   \n",
       "purchase_sum                         0.025457 -0.034714           -0.056691   \n",
       "attribution_score                    0.000997 -0.037774            0.052216   \n",
       "website_visits                      -0.053223  0.022142            0.017478   \n",
       "website_behavior_classification      0.036122  0.150231           -0.060081   \n",
       "experience                           1.000000  0.046166           -0.051469   \n",
       "active                               0.046166  1.000000            0.099303   \n",
       "characteristic_one                  -0.051469  0.099303            1.000000   \n",
       "characteristic_two                  -0.050147  0.061071           -0.030360   \n",
       "characteristic_three                -0.000608 -0.015051            0.005048   \n",
       "customer_journey_progress_program    0.873334  0.050226           -0.038408   \n",
       "\n",
       "                                   characteristic_two  characteristic_three  \\\n",
       "purchase_counts                             -0.006161              0.048409   \n",
       "purchase_sum                                -0.065040             -0.005819   \n",
       "attribution_score                           -0.029829             -0.074929   \n",
       "website_visits                               0.005452             -0.017198   \n",
       "website_behavior_classification              0.013270             -0.032667   \n",
       "experience                                  -0.050147             -0.000608   \n",
       "active                                       0.061071             -0.015051   \n",
       "characteristic_one                          -0.030360              0.005048   \n",
       "characteristic_two                           1.000000              0.022838   \n",
       "characteristic_three                         0.022838              1.000000   \n",
       "customer_journey_progress_program           -0.065153             -0.018790   \n",
       "\n",
       "                                   customer_journey_progress_program  \n",
       "purchase_counts                                            -0.012585  \n",
       "purchase_sum                                               -0.002640  \n",
       "attribution_score                                          -0.025171  \n",
       "website_visits                                             -0.039103  \n",
       "website_behavior_classification                             0.090230  \n",
       "experience                                                  0.873334  \n",
       "active                                                      0.050226  \n",
       "characteristic_one                                         -0.038408  \n",
       "characteristic_two                                         -0.065153  \n",
       "characteristic_three                                       -0.018790  \n",
       "customer_journey_progress_program                           1.000000  "
      ]
     },
     "execution_count": 36,
     "metadata": {},
     "output_type": "execute_result"
    }
   ],
   "source": [
    "d"
   ]
  },
  {
   "cell_type": "code",
   "execution_count": 38,
   "metadata": {},
   "outputs": [
    {
     "data": {
      "text/plain": [
       "<matplotlib.axes._subplots.AxesSubplot at 0x154f6adb400>"
      ]
     },
     "execution_count": 38,
     "metadata": {},
     "output_type": "execute_result"
    },
    {
     "data": {
      "image/png": "[encoded data removed]",
      "text/plain": [
       "<matplotlib.figure.Figure at 0x154f6ae0940>"
      ]
     },
     "metadata": {},
     "output_type": "display_data"
    }
   ],
   "source": [
    "### we can find strong relationship between customer_journey_progress_program and experience\n",
    "\n",
    "dataset.plot.scatter(x='experience',y='customer_journey_progress_program')"
   ]
  },
  {
   "cell_type": "code",
   "execution_count": 39,
   "metadata": {},
   "outputs": [],
   "source": [
    "import numpy as np\n",
    "import seaborn as sns"
   ]
  },
  {
   "cell_type": "code",
   "execution_count": 42,
   "metadata": {},
   "outputs": [
    {
     "data": {
      "text/plain": [
       "<matplotlib.axes._subplots.AxesSubplot at 0x154f7ad7da0>"
      ]
     },
     "execution_count": 42,
     "metadata": {},
     "output_type": "execute_result"
    },
    {
     "data": {
      "image/png": "[encoded data removed]",
      "text/plain": [
       "<matplotlib.figure.Figure at 0x154f78cf400>"
      ]
     },
     "metadata": {},
     "output_type": "display_data"
    }
   ],
   "source": [
    "sns.regplot(x='experience',y='customer_journey_progress_program',data=dataset)"
   ]
  },
  {
   "cell_type": "code",
   "execution_count": 44,
   "metadata": {},
   "outputs": [],
   "source": [
    "### lets see our customer clusters\n",
    "\n",
    "from sklearn.linear_model import LinearRegression"
   ]
  },
  {
   "cell_type": "code",
   "execution_count": 51,
   "metadata": {},
   "outputs": [],
   "source": [
    "df=pd.read_csv(\"ci-data.csv\")"
   ]
  },
  {
   "cell_type": "code",
   "execution_count": 53,
   "metadata": {},
   "outputs": [],
   "source": [
    "X=df[['customer_journey_progress_program']]\n",
    "Y=df['experience']"
   ]
  },
  {
   "cell_type": "code",
   "execution_count": 56,
   "metadata": {},
   "outputs": [
    {
     "data": {
      "text/plain": [
       "0.762711907750049"
      ]
     },
     "execution_count": 56,
     "metadata": {},
     "output_type": "execute_result"
    }
   ],
   "source": [
    "lm = LinearRegression()\n",
    "lm.fit(X,Y)\n",
    "lm.score(X,Y)"
   ]
  },
  {
   "cell_type": "code",
   "execution_count": 58,
   "metadata": {},
   "outputs": [
    {
     "data": {
      "text/plain": [
       "array([0.19673501, 0.10847966, 0.10847966, 0.10847966, 0.10847966,\n",
       "       0.10847966, 0.10847966, 0.28499035, 0.10847966, 0.10847966,\n",
       "       0.10847966, 0.10847966, 0.10847966, 0.10847966, 0.10847966,\n",
       "       0.10847966, 0.10847966, 0.10847966, 0.81452245, 0.10847966,\n",
       "       0.10847966, 0.10847966, 0.10847966, 0.10847966, 0.10847966,\n",
       "       0.10847966, 0.10847966, 0.10847966, 0.10847966, 0.10847966,\n",
       "       0.10847966, 0.10847966, 0.10847966, 0.19673501, 0.10847966,\n",
       "       0.81452245, 0.10847966, 0.10847966, 0.10847966, 0.10847966,\n",
       "       0.02022431, 0.81452245, 0.19673501, 0.10847966, 0.19673501,\n",
       "       0.19673501, 0.19673501, 0.19673501, 0.19673501, 0.19673501,\n",
       "       0.19673501, 0.19673501, 0.19673501, 0.19673501, 0.19673501,\n",
       "       0.19673501, 0.19673501, 0.19673501, 0.63801175, 0.19673501,\n",
       "       0.19673501, 0.19673501, 0.19673501, 0.19673501, 0.19673501,\n",
       "       0.19673501, 0.19673501, 0.19673501, 0.19673501, 0.19673501,\n",
       "       0.5497564 , 0.19673501, 0.19673501, 0.19673501, 0.19673501,\n",
       "       0.10847966, 0.19673501, 0.19673501, 0.19673501, 0.19673501,\n",
       "       0.19673501, 0.19673501, 0.19673501, 0.19673501, 0.19673501,\n",
       "       0.19673501, 0.28499035, 0.28499035, 0.28499035, 0.28499035,\n",
       "       0.28499035, 0.63801175, 0.28499035, 0.28499035, 0.28499035,\n",
       "       0.7262671 , 0.28499035, 0.19673501, 0.10847966, 0.28499035,\n",
       "       0.28499035, 0.28499035, 0.28499035, 0.19673501, 0.81452245,\n",
       "       0.28499035, 0.28499035, 0.28499035, 0.28499035, 0.28499035,\n",
       "       0.28499035, 0.28499035, 0.28499035, 0.28499035, 0.28499035,\n",
       "       0.28499035, 0.28499035, 0.28499035, 0.28499035, 0.28499035,\n",
       "       0.28499035, 0.28499035, 0.28499035, 0.28499035, 0.28499035,\n",
       "       0.28499035, 0.28499035, 0.28499035, 0.28499035, 0.3732457 ,\n",
       "       0.3732457 , 0.3732457 , 0.3732457 , 0.3732457 , 0.3732457 ,\n",
       "       0.81452245, 0.3732457 , 0.3732457 , 0.3732457 , 0.3732457 ,\n",
       "       0.3732457 , 0.28499035, 0.3732457 , 0.3732457 , 0.3732457 ,\n",
       "       0.19673501, 0.3732457 , 0.3732457 , 0.3732457 , 0.3732457 ,\n",
       "       0.3732457 , 0.3732457 , 0.3732457 , 0.19673501, 0.3732457 ,\n",
       "       0.3732457 , 0.46150105, 0.3732457 , 0.3732457 , 0.3732457 ,\n",
       "       0.3732457 , 0.3732457 , 0.3732457 , 0.3732457 , 0.3732457 ,\n",
       "       0.3732457 , 0.3732457 , 0.46150105, 0.46150105, 0.46150105,\n",
       "       0.46150105, 0.46150105, 0.46150105, 0.46150105, 0.46150105,\n",
       "       0.46150105, 0.46150105, 0.46150105, 0.46150105, 0.46150105,\n",
       "       0.46150105, 0.46150105, 0.46150105, 0.46150105, 0.46150105,\n",
       "       0.46150105, 0.46150105, 0.46150105, 0.46150105, 0.46150105,\n",
       "       0.46150105, 0.46150105, 0.46150105, 0.46150105, 0.46150105,\n",
       "       0.46150105, 0.81452245, 0.46150105, 0.46150105, 0.46150105,\n",
       "       0.46150105, 0.46150105, 0.7262671 , 0.7262671 , 0.46150105,\n",
       "       0.46150105, 0.46150105, 0.46150105, 0.5497564 , 0.5497564 ,\n",
       "       0.5497564 , 0.5497564 , 0.5497564 , 0.5497564 , 0.5497564 ,\n",
       "       0.5497564 , 0.5497564 , 0.5497564 , 0.5497564 , 0.5497564 ,\n",
       "       0.5497564 , 0.5497564 , 0.5497564 , 0.5497564 , 0.5497564 ,\n",
       "       0.5497564 , 0.5497564 , 0.5497564 , 0.5497564 , 0.5497564 ,\n",
       "       0.5497564 , 0.5497564 , 0.5497564 , 0.46150105, 0.28499035,\n",
       "       0.5497564 , 0.5497564 , 0.5497564 , 0.5497564 , 0.63801175,\n",
       "       0.63801175, 0.63801175, 0.63801175, 0.63801175, 0.63801175,\n",
       "       0.63801175, 0.63801175, 0.63801175, 0.19673501, 0.63801175,\n",
       "       0.63801175, 0.63801175, 0.63801175, 0.63801175, 0.63801175,\n",
       "       0.63801175, 0.63801175, 0.63801175, 0.63801175, 0.63801175,\n",
       "       0.63801175, 0.28499035, 0.63801175, 0.10847966, 0.63801175,\n",
       "       0.63801175, 0.63801175, 0.81452245, 0.63801175, 0.63801175,\n",
       "       0.63801175, 0.63801175, 0.7262671 , 0.7262671 , 0.63801175,\n",
       "       0.63801175, 0.63801175, 0.63801175, 0.63801175, 0.63801175,\n",
       "       0.63801175, 0.63801175, 0.7262671 , 0.7262671 , 0.7262671 ,\n",
       "       0.7262671 , 0.7262671 , 0.7262671 , 0.7262671 , 0.7262671 ,\n",
       "       0.7262671 , 0.7262671 , 0.7262671 , 0.7262671 , 0.7262671 ,\n",
       "       0.7262671 , 0.7262671 , 0.7262671 , 0.7262671 , 0.7262671 ,\n",
       "       0.5497564 , 0.7262671 , 0.7262671 , 0.7262671 , 0.7262671 ,\n",
       "       0.7262671 , 0.7262671 , 0.7262671 , 0.7262671 , 0.7262671 ,\n",
       "       0.7262671 , 0.7262671 , 0.7262671 , 0.7262671 , 0.7262671 ,\n",
       "       0.7262671 , 0.7262671 , 0.7262671 , 0.81452245, 0.81452245,\n",
       "       0.81452245, 0.81452245, 0.81452245, 0.46150105, 0.3732457 ,\n",
       "       0.81452245, 0.81452245, 0.81452245, 0.19673501, 0.81452245,\n",
       "       0.81452245, 0.81452245, 0.81452245, 0.81452245, 0.81452245,\n",
       "       0.81452245, 0.81452245, 0.19673501, 0.81452245, 0.81452245,\n",
       "       0.81452245, 0.81452245, 0.81452245, 0.81452245, 0.81452245,\n",
       "       0.81452245, 0.81452245, 0.81452245, 0.81452245, 0.81452245,\n",
       "       0.81452245, 0.81452245, 0.81452245, 0.81452245, 0.81452245,\n",
       "       0.81452245, 0.81452245, 0.81452245, 0.9027778 , 0.9027778 ,\n",
       "       0.9027778 , 0.9027778 , 0.9027778 , 0.9027778 , 0.9027778 ,\n",
       "       0.3732457 , 0.9027778 , 0.9027778 , 0.19673501, 0.9027778 ,\n",
       "       0.9027778 , 0.9027778 , 0.9027778 , 0.9027778 , 0.9027778 ,\n",
       "       0.9027778 , 0.9027778 , 0.9027778 , 0.9027778 , 0.9027778 ,\n",
       "       0.9027778 , 0.9027778 , 0.9027778 , 0.9027778 , 0.28499035,\n",
       "       0.9027778 , 0.9027778 , 0.9027778 , 0.9027778 , 0.9027778 ,\n",
       "       0.9027778 , 0.9027778 , 0.9027778 , 0.9027778 , 0.9027778 ,\n",
       "       0.63801175, 0.9027778 , 0.9027778 , 0.9027778 , 0.19673501])"
      ]
     },
     "execution_count": 58,
     "metadata": {},
     "output_type": "execute_result"
    }
   ],
   "source": [
    "lm.predict(X)"
   ]
  },
  {
   "cell_type": "code",
   "execution_count": 61,
   "metadata": {},
   "outputs": [],
   "source": [
    "from sklearn.cluster import KMeans"
   ]
  },
  {
   "cell_type": "code",
   "execution_count": 63,
   "metadata": {},
   "outputs": [],
   "source": [
    "x = pd.DataFrame(dataset,columns=['purchase_sum','experience'])\n",
    "y = pd.DataFrame(dataset.characteristic_one)\n",
    "y.columns = ['Targets']"
   ]
  },
  {
   "cell_type": "code",
   "execution_count": 66,
   "metadata": {},
   "outputs": [
    {
     "data": {
      "text/plain": [
       "<matplotlib.collections.PathCollection at 0x154fa86c390>"
      ]
     },
     "execution_count": 66,
     "metadata": {},
     "output_type": "execute_result"
    },
    {
     "data": {
      "image/png": "[encoded data removed]",
      "text/plain": [
       "<matplotlib.figure.Figure at 0x154fa4fa0f0>"
      ]
     },
     "metadata": {},
     "output_type": "display_data"
    }
   ],
   "source": [
    "colormap = np.array(['','red','black'])\n",
    "plt.scatter(x.purchase_sum,x.experience,c=colormap[y.Targets])"
   ]
  },
  {
   "cell_type": "code",
   "execution_count": 98,
   "metadata": {},
   "outputs": [],
   "source": [
    "model=KMeans(n_clusters=3)"
   ]
  },
  {
   "cell_type": "code",
   "execution_count": 99,
   "metadata": {},
   "outputs": [
    {
     "data": {
      "text/plain": [
       "KMeans(algorithm='auto', copy_x=True, init='k-means++', max_iter=300,\n",
       "    n_clusters=3, n_init=10, n_jobs=1, precompute_distances='auto',\n",
       "    random_state=None, tol=0.0001, verbose=0)"
      ]
     },
     "execution_count": 99,
     "metadata": {},
     "output_type": "execute_result"
    }
   ],
   "source": [
    "model.fit(x)"
   ]
  },
  {
   "cell_type": "code",
   "execution_count": 100,
   "metadata": {},
   "outputs": [
    {
     "data": {
      "text/plain": [
       "array([2, 0, 2, 0, 1, 0, 1, 1, 0, 0, 1, 0, 2, 0, 0, 2, 2, 1, 1, 1, 2, 1,\n",
       "       0, 0, 1, 1, 0, 1, 2, 2, 0, 0, 2, 1, 2, 1, 1, 0, 1, 0, 2, 2, 0, 0,\n",
       "       2, 1, 0, 1, 0, 0, 1, 1, 0, 1, 0, 1, 1, 0, 2, 0, 1, 1, 1, 0, 0, 1,\n",
       "       1, 0, 0, 0, 1, 0, 1, 1, 1, 1, 0, 2, 0, 1, 0, 0, 0, 1, 2, 2, 2, 1,\n",
       "       1, 2, 2, 1, 0, 0, 0, 0, 1, 0, 2, 0, 0, 0, 1, 0, 0, 1, 1, 1, 2, 0,\n",
       "       2, 0, 0, 0, 1, 0, 0, 1, 2, 2, 0, 2, 0, 1, 1, 1, 2, 2, 1, 0, 2, 0,\n",
       "       0, 0, 1, 0, 1, 1, 1, 2, 1, 0, 2, 1, 1, 2, 0, 0, 1, 2, 0, 2, 0, 2,\n",
       "       2, 1, 1, 1, 0, 2, 1, 2, 0, 0, 2, 1, 1, 0, 1, 1, 1, 2, 2, 2, 0, 0,\n",
       "       1, 1, 0, 1, 2, 1, 0, 1, 0, 1, 2, 1, 0, 2, 0, 2, 0, 1, 1, 1, 2, 0,\n",
       "       2, 0, 0, 0, 0, 2, 2, 1, 1, 1, 0, 0, 1, 0, 2, 1, 2, 2, 1, 0, 0, 1,\n",
       "       0, 1, 1, 1, 2, 1, 2, 1, 0, 1, 1, 1, 2, 0, 0, 0, 2, 1, 2, 2, 0, 2,\n",
       "       0, 0, 0, 0, 1, 2, 0, 2, 0, 2, 1, 1, 0, 0, 1, 2, 2, 1, 1, 0, 0, 2,\n",
       "       2, 1, 2, 0, 2, 0, 1, 0, 0, 0, 2, 1, 0, 1, 2, 2, 0, 1, 1, 0, 1, 2,\n",
       "       2, 1, 2, 1, 2, 1, 1, 2, 1, 2, 1, 1, 0, 0, 0, 1, 1, 2, 0, 1, 2, 0,\n",
       "       1, 1, 2, 1, 2, 1, 0, 1, 1, 0, 0, 0, 2, 2, 0, 1, 0, 2, 1, 1, 0, 1,\n",
       "       1, 2, 0, 1, 1, 2, 1, 2, 2, 0, 0, 0, 0, 2, 1, 1, 2, 2, 1, 2, 0, 0,\n",
       "       2, 1, 2, 0, 2, 2, 1, 0, 0, 1, 1, 0, 2, 0, 1, 1, 0, 1, 0, 1, 0, 2,\n",
       "       1, 2, 1, 1, 2, 2, 1, 1, 2, 0, 2, 0, 2, 0, 0, 0, 1, 1, 0, 0, 2, 1,\n",
       "       1, 0, 1, 1])"
      ]
     },
     "execution_count": 100,
     "metadata": {},
     "output_type": "execute_result"
    }
   ],
   "source": [
    "model.labels_"
   ]
  },
  {
   "cell_type": "code",
   "execution_count": 101,
   "metadata": {},
   "outputs": [],
   "source": [
    "colormap=np.array(['red','black','yellow'])"
   ]
  },
  {
   "cell_type": "code",
   "execution_count": 103,
   "metadata": {},
   "outputs": [
    {
     "data": {
      "text/plain": [
       "<matplotlib.collections.PathCollection at 0x154f9826828>"
      ]
     },
     "execution_count": 103,
     "metadata": {},
     "output_type": "execute_result"
    },
    {
     "data": {
      "image/png": "[encoded data removed]",
      "text/plain": [
       "<matplotlib.figure.Figure at 0x154fa81fb00>"
      ]
     },
     "metadata": {},
     "output_type": "display_data"
    }
   ],
   "source": [
    "plt.scatter(x.purchase_sum,x.experience,c=colormap[model.labels_])"
   ]
  },
  {
   "cell_type": "code",
   "execution_count": 106,
   "metadata": {},
   "outputs": [
    {
     "data": {
      "text/plain": [
       "0    In hac habitasse platea dictumst. Etiam faucib...\n",
       "1    Praesent blandit. Nam nulla. Integer pede just...\n",
       "2    Praesent id massa id nisl venenatis lacinia. A...\n",
       "3    In hac habitasse platea dictumst. Morbi vestib...\n",
       "4    Pellentesque at nulla. Suspendisse potenti. Cr...\n",
       "Name: remarks, dtype: object"
      ]
     },
     "execution_count": 106,
     "metadata": {},
     "output_type": "execute_result"
    }
   ],
   "source": [
    "### lets see about our advocates based on remarks or comments they gave to our products\n",
    "\n",
    "dataset.remarks[0:5]"
   ]
  },
  {
   "cell_type": "code",
   "execution_count": 108,
   "metadata": {},
   "outputs": [
    {
     "name": "stdout",
     "output_type": "stream",
     "text": [
      "[nltk_data] Downloading package punkt to C:\\Users\\Tanveer\n",
      "[nltk_data]     Jamadar\\AppData\\Roaming\\nltk_data...\n",
      "[nltk_data]   Unzipping tokenizers\\punkt.zip.\n"
     ]
    },
    {
     "data": {
      "text/plain": [
       "True"
      ]
     },
     "execution_count": 108,
     "metadata": {},
     "output_type": "execute_result"
    }
   ],
   "source": [
    "from sklearn.feature_extraction.text import CountVectorizer\n",
    "import nltk\n",
    "nltk.download('punkt')"
   ]
  },
  {
   "cell_type": "code",
   "execution_count": 113,
   "metadata": {},
   "outputs": [],
   "source": [
    "remarks_token_counts = CountVectorizer(min_df=1,tokenizer=nltk.word_tokenize)"
   ]
  },
  {
   "cell_type": "code",
   "execution_count": 114,
   "metadata": {},
   "outputs": [],
   "source": [
    "remarks = dataset.remarks"
   ]
  },
  {
   "cell_type": "code",
   "execution_count": 116,
   "metadata": {},
   "outputs": [],
   "source": [
    "remarks_as_sparse_vector=remarks_token_counts.fit_transform(remarks)"
   ]
  },
  {
   "cell_type": "code",
   "execution_count": 118,
   "metadata": {},
   "outputs": [
    {
     "data": {
      "text/plain": [
       "{',': 0,\n",
       " '.': 1,\n",
       " ';': 2,\n",
       " 'a': 3,\n",
       " 'ac': 4,\n",
       " 'accumsan': 5,\n",
       " 'adipiscing': 6,\n",
       " 'aenean': 7,\n",
       " 'aliquam': 8,\n",
       " 'aliquet': 9,\n",
       " 'amet': 10,\n",
       " 'ante': 11,\n",
       " 'arcu': 12,\n",
       " 'at': 13,\n",
       " 'auctor': 14,\n",
       " 'augue': 15,\n",
       " 'bibendum': 16,\n",
       " 'blandit': 17,\n",
       " 'commodo': 18,\n",
       " 'condimentum': 19,\n",
       " 'congue': 20,\n",
       " 'consectetuer': 21,\n",
       " 'consequat': 22,\n",
       " 'convallis': 23,\n",
       " 'cras': 24,\n",
       " 'cubilia': 25,\n",
       " 'cum': 26,\n",
       " 'curabitur': 27,\n",
       " 'curae': 28,\n",
       " 'cursus': 29,\n",
       " 'dapibus': 30,\n",
       " 'diam': 31,\n",
       " 'dictumst': 32,\n",
       " 'dignissim': 33,\n",
       " 'dis': 34,\n",
       " 'dolor': 35,\n",
       " 'donec': 36,\n",
       " 'dui': 37,\n",
       " 'duis': 38,\n",
       " 'egestas': 39,\n",
       " 'eget': 40,\n",
       " 'eleifend': 41,\n",
       " 'elementum': 42,\n",
       " 'elit': 43,\n",
       " 'enim': 44,\n",
       " 'erat': 45,\n",
       " 'eros': 46,\n",
       " 'est': 47,\n",
       " 'et': 48,\n",
       " 'etiam': 49,\n",
       " 'eu': 50,\n",
       " 'euismod': 51,\n",
       " 'facilisi': 52,\n",
       " 'faucibus': 53,\n",
       " 'felis': 54,\n",
       " 'fermentum': 55,\n",
       " 'feugiat': 56,\n",
       " 'fringilla': 57,\n",
       " 'fusce': 58,\n",
       " 'gravida': 59,\n",
       " 'habitasse': 60,\n",
       " 'hac': 61,\n",
       " 'hendrerit': 62,\n",
       " 'iaculis': 63,\n",
       " 'id': 64,\n",
       " 'imperdiet': 65,\n",
       " 'in': 66,\n",
       " 'integer': 67,\n",
       " 'interdum': 68,\n",
       " 'ipsum': 69,\n",
       " 'justo': 70,\n",
       " 'lacinia': 71,\n",
       " 'lacus': 72,\n",
       " 'laoreet': 73,\n",
       " 'lectus': 74,\n",
       " 'leo': 75,\n",
       " 'libero': 76,\n",
       " 'ligula': 77,\n",
       " 'lobortis': 78,\n",
       " 'lorem': 79,\n",
       " 'luctus': 80,\n",
       " 'maecenas': 81,\n",
       " 'magna': 82,\n",
       " 'magnis': 83,\n",
       " 'malesuada': 84,\n",
       " 'massa': 85,\n",
       " 'mattis': 86,\n",
       " 'mauris': 87,\n",
       " 'metus': 88,\n",
       " 'mi': 89,\n",
       " 'molestie': 90,\n",
       " 'mollis': 91,\n",
       " 'montes': 92,\n",
       " 'morbi': 93,\n",
       " 'mus': 94,\n",
       " 'nam': 95,\n",
       " 'nascetur': 96,\n",
       " 'natoque': 97,\n",
       " 'nec': 98,\n",
       " 'neque': 99,\n",
       " 'nibh': 100,\n",
       " 'nisi': 101,\n",
       " 'nisl': 102,\n",
       " 'non': 103,\n",
       " 'nonummy': 104,\n",
       " 'nulla': 105,\n",
       " 'nullam': 106,\n",
       " 'nunc': 107,\n",
       " 'odio': 108,\n",
       " 'orci': 109,\n",
       " 'ornare': 110,\n",
       " 'parturient': 111,\n",
       " 'pede': 112,\n",
       " 'pellentesque': 113,\n",
       " 'penatibus': 114,\n",
       " 'pharetra': 115,\n",
       " 'phasellus': 116,\n",
       " 'placerat': 117,\n",
       " 'platea': 118,\n",
       " 'porta': 119,\n",
       " 'porttitor': 120,\n",
       " 'posuere': 121,\n",
       " 'potenti': 122,\n",
       " 'praesent': 123,\n",
       " 'pretium': 124,\n",
       " 'primis': 125,\n",
       " 'proin': 126,\n",
       " 'pulvinar': 127,\n",
       " 'purus': 128,\n",
       " 'quam': 129,\n",
       " 'quis': 130,\n",
       " 'quisque': 131,\n",
       " 'rhoncus': 132,\n",
       " 'ridiculus': 133,\n",
       " 'risus': 134,\n",
       " 'rutrum': 135,\n",
       " 'sagittis': 136,\n",
       " 'sapien': 137,\n",
       " 'scelerisque': 138,\n",
       " 'sed': 139,\n",
       " 'sem': 140,\n",
       " 'semper': 141,\n",
       " 'sit': 142,\n",
       " 'sociis': 143,\n",
       " 'sodales': 144,\n",
       " 'sollicitudin': 145,\n",
       " 'suscipit': 146,\n",
       " 'suspendisse': 147,\n",
       " 'tellus': 148,\n",
       " 'tempor': 149,\n",
       " 'tempus': 150,\n",
       " 'tincidunt': 151,\n",
       " 'tortor': 152,\n",
       " 'tristique': 153,\n",
       " 'turpis': 154,\n",
       " 'ullamcorper': 155,\n",
       " 'ultrices': 156,\n",
       " 'ultricies': 157,\n",
       " 'urna': 158,\n",
       " 'ut': 159,\n",
       " 'varius': 160,\n",
       " 'vehicula': 161,\n",
       " 'vel': 162,\n",
       " 'velit': 163,\n",
       " 'venenatis': 164,\n",
       " 'vestibulum': 165,\n",
       " 'vitae': 166,\n",
       " 'vivamus': 167,\n",
       " 'viverra': 168,\n",
       " 'volutpat': 169,\n",
       " 'vulputate': 170}"
      ]
     },
     "execution_count": 118,
     "metadata": {},
     "output_type": "execute_result"
    }
   ],
   "source": [
    "remarks_token_counts.vocabulary_"
   ]
  },
  {
   "cell_type": "code",
   "execution_count": 132,
   "metadata": {},
   "outputs": [],
   "source": [
    "from nltk.sentiment.vader import SentimentIntensityAnalyzer"
   ]
  },
  {
   "cell_type": "code",
   "execution_count": 134,
   "metadata": {},
   "outputs": [
    {
     "ename": "LookupError",
     "evalue": "\n**********************************************************************\n  Resource \u001b[93mvader_lexicon\u001b[0m not found.\n  Please use the NLTK Downloader to obtain the resource:\n\n  \u001b[31m>>> import nltk\n  >>> nltk.download('vader_lexicon')\n  \u001b[0m\n  Searched in:\n    - 'C:\\\\Users\\\\Tanveer Jamadar/nltk_data'\n    - 'C:\\\\nltk_data'\n    - 'D:\\\\nltk_data'\n    - 'E:\\\\nltk_data'\n    - 'C:\\\\Users\\\\Tanveer Jamadar\\\\Anaconda3\\\\nltk_data'\n    - 'C:\\\\Users\\\\Tanveer Jamadar\\\\Anaconda3\\\\lib\\\\nltk_data'\n    - 'C:\\\\Users\\\\Tanveer Jamadar\\\\AppData\\\\Roaming\\\\nltk_data'\n    - ''\n**********************************************************************\n",
     "output_type": "error",
     "traceback": [
      "\u001b[1;31m---------------------------------------------------------------------------\u001b[0m",
      "\u001b[1;31mLookupError\u001b[0m                               Traceback (most recent call last)",
      "\u001b[1;32m<ipython-input-134-de2713bc8be6>\u001b[0m in \u001b[0;36m<module>\u001b[1;34m()\u001b[0m\n\u001b[1;32m----> 1\u001b[1;33m \u001b[0manalyser\u001b[0m\u001b[1;33m=\u001b[0m\u001b[0mSentimentIntensityAnalyzer\u001b[0m\u001b[1;33m(\u001b[0m\u001b[1;33m)\u001b[0m\u001b[1;33m\u001b[0m\u001b[0m\n\u001b[0m",
      "\u001b[1;32m~\\Anaconda3\\lib\\site-packages\\nltk\\sentiment\\vader.py\u001b[0m in \u001b[0;36m__init__\u001b[1;34m(self, lexicon_file)\u001b[0m\n\u001b[0;32m    198\u001b[0m     \"\"\"\n\u001b[0;32m    199\u001b[0m     \u001b[1;32mdef\u001b[0m \u001b[0m__init__\u001b[0m\u001b[1;33m(\u001b[0m\u001b[0mself\u001b[0m\u001b[1;33m,\u001b[0m \u001b[0mlexicon_file\u001b[0m\u001b[1;33m=\u001b[0m\u001b[1;34m\"sentiment/vader_lexicon.zip/vader_lexicon/vader_lexicon.txt\"\u001b[0m\u001b[1;33m)\u001b[0m\u001b[1;33m:\u001b[0m\u001b[1;33m\u001b[0m\u001b[0m\n\u001b[1;32m--> 200\u001b[1;33m         \u001b[0mself\u001b[0m\u001b[1;33m.\u001b[0m\u001b[0mlexicon_file\u001b[0m \u001b[1;33m=\u001b[0m \u001b[0mnltk\u001b[0m\u001b[1;33m.\u001b[0m\u001b[0mdata\u001b[0m\u001b[1;33m.\u001b[0m\u001b[0mload\u001b[0m\u001b[1;33m(\u001b[0m\u001b[0mlexicon_file\u001b[0m\u001b[1;33m)\u001b[0m\u001b[1;33m\u001b[0m\u001b[0m\n\u001b[0m\u001b[0;32m    201\u001b[0m         \u001b[0mself\u001b[0m\u001b[1;33m.\u001b[0m\u001b[0mlexicon\u001b[0m \u001b[1;33m=\u001b[0m \u001b[0mself\u001b[0m\u001b[1;33m.\u001b[0m\u001b[0mmake_lex_dict\u001b[0m\u001b[1;33m(\u001b[0m\u001b[1;33m)\u001b[0m\u001b[1;33m\u001b[0m\u001b[0m\n\u001b[0;32m    202\u001b[0m \u001b[1;33m\u001b[0m\u001b[0m\n",
      "\u001b[1;32m~\\Anaconda3\\lib\\site-packages\\nltk\\data.py\u001b[0m in \u001b[0;36mload\u001b[1;34m(resource_url, format, cache, verbose, logic_parser, fstruct_reader, encoding)\u001b[0m\n\u001b[0;32m    832\u001b[0m \u001b[1;33m\u001b[0m\u001b[0m\n\u001b[0;32m    833\u001b[0m     \u001b[1;31m# Load the resource.\u001b[0m\u001b[1;33m\u001b[0m\u001b[1;33m\u001b[0m\u001b[0m\n\u001b[1;32m--> 834\u001b[1;33m     \u001b[0mopened_resource\u001b[0m \u001b[1;33m=\u001b[0m \u001b[0m_open\u001b[0m\u001b[1;33m(\u001b[0m\u001b[0mresource_url\u001b[0m\u001b[1;33m)\u001b[0m\u001b[1;33m\u001b[0m\u001b[0m\n\u001b[0m\u001b[0;32m    835\u001b[0m \u001b[1;33m\u001b[0m\u001b[0m\n\u001b[0;32m    836\u001b[0m     \u001b[1;32mif\u001b[0m \u001b[0mformat\u001b[0m \u001b[1;33m==\u001b[0m \u001b[1;34m'raw'\u001b[0m\u001b[1;33m:\u001b[0m\u001b[1;33m\u001b[0m\u001b[0m\n",
      "\u001b[1;32m~\\Anaconda3\\lib\\site-packages\\nltk\\data.py\u001b[0m in \u001b[0;36m_open\u001b[1;34m(resource_url)\u001b[0m\n\u001b[0;32m    950\u001b[0m \u001b[1;33m\u001b[0m\u001b[0m\n\u001b[0;32m    951\u001b[0m     \u001b[1;32mif\u001b[0m \u001b[0mprotocol\u001b[0m \u001b[1;32mis\u001b[0m \u001b[1;32mNone\u001b[0m \u001b[1;32mor\u001b[0m \u001b[0mprotocol\u001b[0m\u001b[1;33m.\u001b[0m\u001b[0mlower\u001b[0m\u001b[1;33m(\u001b[0m\u001b[1;33m)\u001b[0m \u001b[1;33m==\u001b[0m \u001b[1;34m'nltk'\u001b[0m\u001b[1;33m:\u001b[0m\u001b[1;33m\u001b[0m\u001b[0m\n\u001b[1;32m--> 952\u001b[1;33m         \u001b[1;32mreturn\u001b[0m \u001b[0mfind\u001b[0m\u001b[1;33m(\u001b[0m\u001b[0mpath_\u001b[0m\u001b[1;33m,\u001b[0m \u001b[0mpath\u001b[0m \u001b[1;33m+\u001b[0m \u001b[1;33m[\u001b[0m\u001b[1;34m''\u001b[0m\u001b[1;33m]\u001b[0m\u001b[1;33m)\u001b[0m\u001b[1;33m.\u001b[0m\u001b[0mopen\u001b[0m\u001b[1;33m(\u001b[0m\u001b[1;33m)\u001b[0m\u001b[1;33m\u001b[0m\u001b[0m\n\u001b[0m\u001b[0;32m    953\u001b[0m     \u001b[1;32melif\u001b[0m \u001b[0mprotocol\u001b[0m\u001b[1;33m.\u001b[0m\u001b[0mlower\u001b[0m\u001b[1;33m(\u001b[0m\u001b[1;33m)\u001b[0m \u001b[1;33m==\u001b[0m \u001b[1;34m'file'\u001b[0m\u001b[1;33m:\u001b[0m\u001b[1;33m\u001b[0m\u001b[0m\n\u001b[0;32m    954\u001b[0m         \u001b[1;31m# urllib might not use mode='rb', so handle this one ourselves:\u001b[0m\u001b[1;33m\u001b[0m\u001b[1;33m\u001b[0m\u001b[0m\n",
      "\u001b[1;32m~\\Anaconda3\\lib\\site-packages\\nltk\\data.py\u001b[0m in \u001b[0;36mfind\u001b[1;34m(resource_name, paths)\u001b[0m\n\u001b[0;32m    671\u001b[0m     \u001b[0msep\u001b[0m \u001b[1;33m=\u001b[0m \u001b[1;34m'*'\u001b[0m \u001b[1;33m*\u001b[0m \u001b[1;36m70\u001b[0m\u001b[1;33m\u001b[0m\u001b[0m\n\u001b[0;32m    672\u001b[0m     \u001b[0mresource_not_found\u001b[0m \u001b[1;33m=\u001b[0m \u001b[1;34m'\\n%s\\n%s\\n%s\\n'\u001b[0m \u001b[1;33m%\u001b[0m \u001b[1;33m(\u001b[0m\u001b[0msep\u001b[0m\u001b[1;33m,\u001b[0m \u001b[0mmsg\u001b[0m\u001b[1;33m,\u001b[0m \u001b[0msep\u001b[0m\u001b[1;33m)\u001b[0m\u001b[1;33m\u001b[0m\u001b[0m\n\u001b[1;32m--> 673\u001b[1;33m     \u001b[1;32mraise\u001b[0m \u001b[0mLookupError\u001b[0m\u001b[1;33m(\u001b[0m\u001b[0mresource_not_found\u001b[0m\u001b[1;33m)\u001b[0m\u001b[1;33m\u001b[0m\u001b[0m\n\u001b[0m\u001b[0;32m    674\u001b[0m \u001b[1;33m\u001b[0m\u001b[0m\n\u001b[0;32m    675\u001b[0m \u001b[1;33m\u001b[0m\u001b[0m\n",
      "\u001b[1;31mLookupError\u001b[0m: \n**********************************************************************\n  Resource \u001b[93mvader_lexicon\u001b[0m not found.\n  Please use the NLTK Downloader to obtain the resource:\n\n  \u001b[31m>>> import nltk\n  >>> nltk.download('vader_lexicon')\n  \u001b[0m\n  Searched in:\n    - 'C:\\\\Users\\\\Tanveer Jamadar/nltk_data'\n    - 'C:\\\\nltk_data'\n    - 'D:\\\\nltk_data'\n    - 'E:\\\\nltk_data'\n    - 'C:\\\\Users\\\\Tanveer Jamadar\\\\Anaconda3\\\\nltk_data'\n    - 'C:\\\\Users\\\\Tanveer Jamadar\\\\Anaconda3\\\\lib\\\\nltk_data'\n    - 'C:\\\\Users\\\\Tanveer Jamadar\\\\AppData\\\\Roaming\\\\nltk_data'\n    - ''\n**********************************************************************\n"
     ]
    }
   ],
   "source": [
    "analyser=SentimentIntensityAnalyzer()"
   ]
  },
  {
   "cell_type": "code",
   "execution_count": 135,
   "metadata": {},
   "outputs": [
    {
     "name": "stdout",
     "output_type": "stream",
     "text": [
      "[nltk_data] Downloading package vader_lexicon to C:\\Users\\Tanveer\n",
      "[nltk_data]     Jamadar\\AppData\\Roaming\\nltk_data...\n"
     ]
    },
    {
     "data": {
      "text/plain": [
       "True"
      ]
     },
     "execution_count": 135,
     "metadata": {},
     "output_type": "execute_result"
    }
   ],
   "source": [
    "## to resolve issue vader_lexicon not found\n",
    "\n",
    "nltk.download('vader_lexicon')"
   ]
  },
  {
   "cell_type": "code",
   "execution_count": 137,
   "metadata": {},
   "outputs": [],
   "source": [
    "import nltk"
   ]
  },
  {
   "cell_type": "code",
   "execution_count": 139,
   "metadata": {},
   "outputs": [],
   "source": [
    "from nltk.sentiment.vader import SentimentIntensityAnalyzer"
   ]
  },
  {
   "cell_type": "code",
   "execution_count": 140,
   "metadata": {},
   "outputs": [],
   "source": [
    "analyzer = SentimentIntensityAnalyzer()"
   ]
  },
  {
   "cell_type": "code",
   "execution_count": 142,
   "metadata": {},
   "outputs": [],
   "source": [
    "def sentiment_analyzer_scores(sentence):\n",
    "    score=analyzer.polarity_scores(sentence)\n",
    "    print(\"{}{}\".format(sentence,str(score)))"
   ]
  },
  {
   "cell_type": "code",
   "execution_count": 144,
   "metadata": {},
   "outputs": [
    {
     "name": "stdout",
     "output_type": "stream",
     "text": [
      "{'neg': 0.0, 'neu': 0.0, 'pos': 0.0, 'compound': 0.0}\n"
     ]
    }
   ],
   "source": [
    "sentiment_analyzer_scores(\"\")"
   ]
  },
  {
   "cell_type": "code",
   "execution_count": 149,
   "metadata": {},
   "outputs": [
    {
     "name": "stdout",
     "output_type": "stream",
     "text": [
      "This is not the a bad company{'neg': 0.0, 'neu': 0.637, 'pos': 0.363, 'compound': 0.431}\n"
     ]
    }
   ],
   "source": [
    "sentiment_analyzer_scores(\"This is not the a bad company\")"
   ]
  }
 ],
 "metadata": {
  "kernelspec": {
   "display_name": "Python 3",
   "language": "python",
   "name": "python3"
  },
  "language_info": {
   "codemirror_mode": {
    "name": "ipython",
    "version": 3
   },
   "file_extension": ".py",
   "mimetype": "text/x-python",
   "name": "python",
   "nbconvert_exporter": "python",
   "pygments_lexer": "ipython3",
   "version": "3.6.4"
  }
 },
 "nbformat": 4,
 "nbformat_minor": 2
}
