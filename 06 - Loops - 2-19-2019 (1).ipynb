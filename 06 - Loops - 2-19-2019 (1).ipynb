{
 "cells": [
  {
   "cell_type": "markdown",
   "metadata": {},
   "source": [
    "## Activity 1:\n",
    "\n",
    "What is the output of the following code? "
   ]
  },
  {
   "cell_type": "code",
   "execution_count": 1,
   "metadata": {},
   "outputs": [
    {
     "name": "stdout",
     "output_type": "stream",
     "text": [
      "Bye\n"
     ]
    }
   ],
   "source": [
    "x = 0\n",
    "while x > 0:\n",
    "    print(x, end=' ')\n",
    "    x = x - 1\n",
    "print('Bye')"
   ]
  },
  {
   "cell_type": "code",
   "execution_count": 7,
   "metadata": {},
   "outputs": [
    {
     "name": "stdout",
     "output_type": "stream",
     "text": [
      "0 \t 0 \t 0 \t 0 \t 0\n",
      "1 \t 1 \t 1 \t 1 \t 1\n",
      "2 \t 4 \t 8 \t 16 \t 32\n",
      "3 \t 9 \t 27 \t 81 \t 243\n",
      "4 \t 16 \t 64 \t 256 \t 1024\n",
      "5 \t 25 \t 125 \t 625 \t 3125\n",
      "6 \t 36 \t 216 \t 1296 \t 7776\n",
      "7 \t 49 \t 343 \t 2401 \t 16807\n",
      "8 \t 64 \t 512 \t 4096 \t 32768\n",
      "9 \t 81 \t 729 \t 6561 \t 59049\n",
      "10 \t 100 \t 1000 \t 10000 \t 100000\n",
      "11 \t 121 \t 1331 \t 14641 \t 161051\n",
      "12 \t 144 \t 1728 \t 20736 \t 248832\n",
      "13 \t 169 \t 2197 \t 28561 \t 371293\n",
      "14 \t 196 \t 2744 \t 38416 \t 537824\n",
      "15 \t 225 \t 3375 \t 50625 \t 759375\n",
      "16 \t 256 \t 4096 \t 65536 \t 1048576\n",
      "17 \t 289 \t 4913 \t 83521 \t 1419857\n",
      "18 \t 324 \t 5832 \t 104976 \t 1889568\n",
      "19 \t 361 \t 6859 \t 130321 \t 2476099\n"
     ]
    }
   ],
   "source": [
    "for i in range(0,20):\n",
    "    print(i,'\\t',i**2,'\\t',i**3,'\\t',i**4,'\\t',i**5)"
   ]
  },
  {
   "cell_type": "code",
   "execution_count": 2,
   "metadata": {},
   "outputs": [
    {
     "name": "stdout",
     "output_type": "stream",
     "text": [
      "18 13 8 "
     ]
    }
   ],
   "source": [
    "x = 5\n",
    "y = 18\n",
    "while y >= x:\n",
    "    print(y, end=' ')\n",
    "    y = y - x"
   ]
  },
  {
   "cell_type": "code",
   "execution_count": 5,
   "metadata": {},
   "outputs": [
    {
     "name": "stdout",
     "output_type": "stream",
     "text": [
      "7 "
     ]
    }
   ],
   "source": [
    "x = 7\n",
    "while x != 3:\n",
    "    print(x, end=' ')\n",
    "    x = x // 2"
   ]
  },
  {
   "cell_type": "code",
   "execution_count": 6,
   "metadata": {},
   "outputs": [
    {
     "name": "stdout",
     "output_type": "stream",
     "text": [
      "1 2 3 "
     ]
    }
   ],
   "source": [
    "x = 1\n",
    "y = 3\n",
    "z = 5\n",
    "while not (y < x < z):\n",
    "    print(x, end=' ')\n",
    "    x = x + 1"
   ]
  },
  {
   "cell_type": "markdown",
   "metadata": {},
   "source": [
    "## Activity 2: \n",
    "\n",
    "Write a python code that prints the number as long as the user enters a non-negative number. "
   ]
  },
  {
   "cell_type": "code",
   "execution_count": 12,
   "metadata": {},
   "outputs": [
    {
     "name": "stdout",
     "output_type": "stream",
     "text": [
      "Enter number: -5\n"
     ]
    }
   ],
   "source": [
    "a = int(input('Enter number: '))\n",
    "\n",
    "while a>=0:\n",
    "    print(a)\n",
    "    break"
   ]
  },
  {
   "cell_type": "markdown",
   "metadata": {},
   "source": [
    "## Activity 3:\n",
    "\n",
    "Write a while loop that prints user_num divided by 2 until user_num is less than 1. The value of user_num changes inside of the loop. Sample output for the given program:\n",
    "```10.0\n",
    "5.0\n",
    "2.5\n",
    "1.25\n",
    "0.625```"
   ]
  },
  {
   "cell_type": "markdown",
   "metadata": {},
   "source": [
    "### Activity 4: \n",
    "\n",
    "Write a python program that computes the greatest common divisor (GCD) among two user-entered integers ``num_a`` and ``num_b``, using Euclid's algorithm: If ``num_a > num_b``, set ``num_a`` to ``num_a - num_b``, else set ``num_b`` to ``num_b - num_a``. Repeat until ``num_a`` equals ``num_b``, at which point ``num_a`` and ``num_b`` both equal the GCD.\n",
    "\n",
    "Use input values of num_a = 15 and num_b = 10 in the above GCD program. Try to answer the questions by mentally executing the statements. If stuck, consider adding additional print statements to the program.\n",
    "- What is the value of num_a before the first loop iteration?\n",
    "- What is num_a after the first and before the second iteration?\n",
    "- What is num_b after the second and before the third iteration?\n",
    "- How many loop iterations will the algorithm execute?"
   ]
  },
  {
   "cell_type": "code",
   "execution_count": 7,
   "metadata": {},
   "outputs": [
    {
     "name": "stdout",
     "output_type": "stream",
     "text": [
      "Enter the first number:-10\n",
      "Enter the first number:10\n",
      "Enter the second number:15\n",
      "num_a: 15\n",
      "num_b: 10\n"
     ]
    }
   ],
   "source": [
    "num_a = int(input('Enter the first number:'))\n",
    "while num_a<=0:\n",
    "    num_a = int(input('Enter the first number:'))\n",
    "    \n",
    "num_b = int(input('Enter the second number:'))\n",
    "while num_b<=0:\n",
    "    num_b = int(input('Enter the second number:'))\n",
    "    \n",
    "if num_a < num_b:\n",
    "    temp = num_a\n",
    "    num_a = num_b\n",
    "    num_b = temp\n",
    "    \n",
    "print('num_a: %d'%num_a)\n",
    "print('num_b: %d'%num_b)"
   ]
  },
  {
   "cell_type": "markdown",
   "metadata": {},
   "source": [
    "## Activity 5: \n",
    "\n",
    "Write a python code for random bidding. First read the initial bid from the user. Then write an expression that continues to bid until the user enters 'n'. Every time the code increase the previous bid by a random number between 0 and 10(exclusive). "
   ]
  },
  {
   "cell_type": "markdown",
   "metadata": {},
   "source": [
    "## Activity 6: \n",
    "\n",
    "Write a python code that given positive integer num_insects, prints that number doubled without exceeding 100. Follow each number with a space. Ex: If ``num_insects = 8``, print:\n",
    "```8 16 32 64```"
   ]
  },
  {
   "cell_type": "markdown",
   "metadata": {},
   "source": [
    "## Activity 7: \n",
    "\n",
    "Write a python program to output the amount of money in a savings account each year for the user-entered number of years, with \\$10,000 initial savings and 5% yearly interest:"
   ]
  },
  {
   "cell_type": "markdown",
   "metadata": {},
   "source": [
    "## Activity 8: \n",
    "\n",
    "Write a program that prints the U.S. presidential election years from 1792 to present day, knowing that such elections occur every 4 years."
   ]
  },
  {
   "cell_type": "code",
   "execution_count": 24,
   "metadata": {},
   "outputs": [
    {
     "name": "stdout",
     "output_type": "stream",
     "text": [
      "current year: 2000\n",
      "1796\n",
      "1797\n",
      "1798\n",
      "1799\n",
      "1800\n",
      "1801\n",
      "1802\n",
      "1803\n",
      "1804\n",
      "1805\n",
      "1806\n",
      "1807\n",
      "1808\n",
      "1809\n",
      "1810\n",
      "1811\n",
      "1812\n",
      "1813\n",
      "1814\n",
      "1815\n",
      "1816\n",
      "1817\n",
      "1818\n",
      "1819\n",
      "1820\n",
      "1821\n",
      "1822\n",
      "1823\n",
      "1824\n",
      "1825\n",
      "1826\n",
      "1827\n",
      "1828\n",
      "1829\n",
      "1830\n",
      "1831\n",
      "1832\n",
      "1833\n",
      "1834\n",
      "1835\n",
      "1836\n",
      "1837\n",
      "1838\n",
      "1839\n",
      "1840\n",
      "1841\n",
      "1842\n",
      "1843\n",
      "1844\n",
      "1845\n",
      "1846\n",
      "1847\n",
      "1848\n",
      "1849\n",
      "1850\n",
      "1851\n",
      "1852\n",
      "1853\n",
      "1854\n",
      "1855\n",
      "1856\n",
      "1857\n",
      "1858\n",
      "1859\n",
      "1860\n",
      "1861\n",
      "1862\n",
      "1863\n",
      "1864\n",
      "1865\n",
      "1866\n",
      "1867\n",
      "1868\n",
      "1869\n",
      "1870\n",
      "1871\n",
      "1872\n",
      "1873\n",
      "1874\n",
      "1875\n",
      "1876\n",
      "1877\n",
      "1878\n",
      "1879\n",
      "1880\n",
      "1881\n",
      "1882\n",
      "1883\n",
      "1884\n",
      "1885\n",
      "1886\n",
      "1887\n",
      "1888\n",
      "1889\n",
      "1890\n",
      "1891\n",
      "1892\n",
      "1893\n",
      "1894\n",
      "1895\n",
      "1896\n",
      "1897\n",
      "1898\n",
      "1899\n",
      "1900\n",
      "1901\n",
      "1902\n",
      "1903\n",
      "1904\n",
      "1905\n",
      "1906\n",
      "1907\n",
      "1908\n",
      "1909\n",
      "1910\n",
      "1911\n",
      "1912\n",
      "1913\n",
      "1914\n",
      "1915\n",
      "1916\n",
      "1917\n",
      "1918\n",
      "1919\n",
      "1920\n",
      "1921\n",
      "1922\n",
      "1923\n",
      "1924\n",
      "1925\n",
      "1926\n",
      "1927\n",
      "1928\n",
      "1929\n",
      "1930\n",
      "1931\n",
      "1932\n",
      "1933\n",
      "1934\n",
      "1935\n",
      "1936\n",
      "1937\n",
      "1938\n",
      "1939\n",
      "1940\n",
      "1941\n",
      "1942\n",
      "1943\n",
      "1944\n",
      "1945\n",
      "1946\n",
      "1947\n",
      "1948\n",
      "1949\n",
      "1950\n",
      "1951\n",
      "1952\n",
      "1953\n",
      "1954\n",
      "1955\n",
      "1956\n",
      "1957\n",
      "1958\n",
      "1959\n",
      "1960\n",
      "1961\n",
      "1962\n",
      "1963\n",
      "1964\n",
      "1965\n",
      "1966\n",
      "1967\n",
      "1968\n",
      "1969\n",
      "1970\n",
      "1971\n",
      "1972\n",
      "1973\n",
      "1974\n",
      "1975\n",
      "1976\n",
      "1977\n",
      "1978\n",
      "1979\n",
      "1980\n",
      "1981\n",
      "1982\n",
      "1983\n",
      "1984\n",
      "1985\n",
      "1986\n",
      "1987\n",
      "1988\n",
      "1989\n",
      "1990\n",
      "1991\n",
      "1992\n",
      "1993\n",
      "1994\n",
      "1995\n",
      "1996\n",
      "1997\n",
      "1998\n",
      "1999\n",
      "2000\n",
      "2001\n",
      "2002\n",
      "2003\n"
     ]
    }
   ],
   "source": [
    "c = int(input('current year: '))\n",
    "\n",
    "i=17\n",
    "\n",
    "for i in range(1792,c):\n",
    "    print(i+4)\n",
    "i=i+4"
   ]
  },
  {
   "cell_type": "markdown",
   "metadata": {},
   "source": [
    "## Activity 9: \n",
    "\n",
    "Write a program that lets a user enter $N$ and that outputs $N!$ ($N$ factorial, meaning $N*(N-1)*(N-2)*...*2*1$)."
   ]
  },
  {
   "cell_type": "markdown",
   "metadata": {},
   "source": [
    "## Activity 10: \n",
    "\n",
    "Write a while loop that prints all the odd numbers between 1 and user_num. "
   ]
  },
  {
   "cell_type": "markdown",
   "metadata": {},
   "source": [
    "## Activity 11: \n",
    "\n",
    "Fill in the missing code to perform the desired calculation.\n",
    "\n",
    "Compute the average number of kids.\n",
    "\n",
    "```Python\n",
    "# Each list item is the number of kids in a family.\n",
    "num_kids = [1, 1, 2, 2, 1, 4, 3, 1]\n",
    "total = 0\n",
    "for num in num_kids:\n",
    "    total += ?\n",
    "average = total / len(num_kids) ```"
   ]
  },
  {
   "cell_type": "markdown",
   "metadata": {},
   "source": [
    "## Activity 12: \n",
    "\n",
    "Fill in the missing code to perform the desired calculation.\n",
    "\n",
    "Assign ``num_neg`` to the number of below-freezing Celsius temperatures in the list.\n",
    "\n",
    "```Python\n",
    "temperatures = [30, 20, 2, -5, -15, -8, -1, 0, 5, 35]\n",
    "\n",
    "num_neg = 0\n",
    "for temp in temperatures:\n",
    "    if temp < 0:\n",
    "        ?```"
   ]
  },
  {
   "cell_type": "code",
   "execution_count": 38,
   "metadata": {},
   "outputs": [
    {
     "name": "stdout",
     "output_type": "stream",
     "text": [
      "negative temperatures [-5, -15, -8, -1]\n"
     ]
    }
   ],
   "source": [
    "temperatures = [30, 20, 2, -5, -15, -8, -1, 0, 5, 35]\n",
    "\n",
    "num_neg =[]\n",
    "\n",
    "for temp in temperatures:\n",
    "    if temp < 0:\n",
    "        num_neg.append(temp)\n",
    "    else:\n",
    "        temp+=1\n",
    "\n",
    "print ('negative temperatures {}'.format(num_neg))"
   ]
  },
  {
   "cell_type": "markdown",
   "metadata": {},
   "source": [
    "## Activity 13: \n",
    "\n",
    "Fill in the missing code to perform the desired calculation.\n",
    "\n",
    "Print scores in order from highest to lowest. Note: list is pre-sorted from lowest to highest.\n",
    "\n",
    "```Python\n",
    "scores = [75, 77, 80, 85, 90, 95, 99]\n",
    "\n",
    "for scr in ?:\n",
    "    print(scr, end=' ')```"
   ]
  },
  {
   "cell_type": "markdown",
   "metadata": {},
   "source": [
    "## Activity 14: \n",
    "\n",
    "```stock_prices = [34.62, 76.30, 85.05]```\n",
    "\n",
    "Write an expression to print each price in ``stock_prices``. Sample output for the given program:\n",
    "\n",
    "```\n",
    "$ 34.62\n",
    "$ 76.30\n",
    "$ 85.05 ```"
   ]
  },
  {
   "cell_type": "markdown",
   "metadata": {},
   "source": [
    "## Activity 15: \n",
    "\n",
    "```Python\n",
    "contact_emails = {\n",
    "    'Sue Reyn' : 's.reyn@email.com',\n",
    "    'Mike Filt': 'mike.filt@bmail.com',\n",
    "    'Nate Arty': 'narty042@nmail.com'\n",
    "}```\n",
    "\n",
    "Write a for loop to print each contact in contact_emails. Sample output for the given program:\n",
    "\n",
    "```Pythohn\n",
    "mike.filt@bmail.com is Mike Filt\n",
    "s.reyn@email.com is Sue Reyn\n",
    "narty042@nmail.com is Nate Arty```"
   ]
  },
  {
   "cell_type": "code",
   "execution_count": 49,
   "metadata": {},
   "outputs": [
    {
     "name": "stdout",
     "output_type": "stream",
     "text": [
      "Sue Reyn\n",
      "Mike Filt\n",
      "Nate Arty\n",
      "Sue Reyn\n",
      "Mike Filt\n",
      "Nate Arty\n",
      "Sue Reyn\n",
      "Mike Filt\n",
      "Nate Arty\n"
     ]
    }
   ],
   "source": [
    "contact_emails = {\n",
    "    'Sue Reyn' : 's.reyn@email.com',\n",
    "    'Mike Filt': 'mike.filt@bmail.com',\n",
    "    'Nate Arty': 'narty042@nmail.com'\n",
    "}\n",
    "\n",
    "a = contact_emails.keys()\n",
    "    \n",
    "for i in a:\n",
    "        print(i)"
   ]
  },
  {
   "cell_type": "markdown",
   "metadata": {},
   "source": [
    "## Activity 16: \n",
    "\n",
    "Write a python program that graphically depicts an integer's magnitude by using asterisks, creating what is commonly called a histogram:\n",
    "\n",
    "```Python\n",
    "Enter an integer (negative to quit): 5\n",
    "Depicted graphically:\n",
    "***** \n",
    "Enter an integer (negative to quit): 10\n",
    "Depicted graphically:\n",
    "**********\n",
    "Enter an integer (negative to quit): -1\n",
    "Goodbye.```"
   ]
  },
  {
   "cell_type": "markdown",
   "metadata": {},
   "source": [
    "## Activity 17\n",
    "\n",
    "Modify above program to include two-character .com names, where the second character can be a letter or a number, e.g., a2.com. \n",
    "\n",
    "Hint: Add a second while loop nested in the outer loop, but following the first inner loop, that iterates through the numbers 0-9."
   ]
  },
  {
   "cell_type": "markdown",
   "metadata": {},
   "source": [
    "## Activity 18\n",
    "\n",
    "Write nested loops to print a rectangle. Read the number of rows and number of columns from the user and print the rectangle. \n",
    "\n",
    "Sample output for given program for number of rwos 2, and number of columns 3 is:\n",
    "\n",
    "```Pythohn\n",
    "***\n",
    "***```"
   ]
  },
  {
   "cell_type": "markdown",
   "metadata": {},
   "source": [
    "## Activity 19\n",
    "\n",
    "Write a code to decode a letters in a phone number. Read the input from the user and return numerical phone number. "
   ]
  },
  {
   "cell_type": "markdown",
   "metadata": {},
   "source": [
    "## Activity 20\n",
    "\n",
    "Write a Python code to calculate the number of tumes the sume of two dice (randomly rolled) is equal six or seven. \n",
    "\n",
    "Sample run:\n",
    "```Python\n",
    "Enter number of rolls: 6\n",
    "Roll 0 is 9 (3 + 6)\n",
    "Roll 1 is 8 (2 + 6)\n",
    "Roll 2 is 8 (4 + 4)\n",
    "Roll 3 is 10 (5 + 5)\n",
    "Roll 4 is 8 (5 + 3)\n",
    "Roll 5 is 9 (6 + 3)\n",
    "\n",
    "Dice roll statistics:\n",
    "6s: 0\n",
    "7s: 0\n",
    "```\n"
   ]
  },
  {
   "cell_type": "markdown",
   "metadata": {},
   "source": [
    "## Activity 21\n",
    "\n",
    "Create a different version of the above program that: \n",
    "\n",
    "1. Calculates the number of times the sum of the randomly rolled dice equals each possible value from 2 to 12.\n",
    "2. Repeatedly asks the user for the number of times to roll the dice, quitting only when the user-entered number is less than 1. Hint: Use a while loop that will execute as long as num_rolls is greater than 1.\n",
    "3. Prints a histogram in which the total number of times the dice rolls equals each possible value is displayed by printing a character, such as *, that number of times. The following provides an example:\n",
    "\n",
    "```Python\n",
    "Dice roll histogram:\n",
    "\n",
    "2s:  **\n",
    "3s:  ****\n",
    "4s:  ***\n",
    "5s:  *********\n",
    "6s:  **************\n",
    "7s:  *****************\n",
    "8s:  *************\n",
    "9s:  *********\n",
    "10s: **********\n",
    "11s: *****\n",
    "12s: **\n",
    "```"
   ]
  }
 ],
 "metadata": {
  "kernelspec": {
   "display_name": "Python 3",
   "language": "python",
   "name": "python3"
  },
  "language_info": {
   "codemirror_mode": {
    "name": "ipython",
    "version": 3
   },
   "file_extension": ".py",
   "mimetype": "text/x-python",
   "name": "python",
   "nbconvert_exporter": "python",
   "pygments_lexer": "ipython3",
   "version": "3.7.1"
  }
 },
 "nbformat": 4,
 "nbformat_minor": 2
}
